{
 "cells": [
  {
   "metadata": {},
   "cell_type": "markdown",
   "source": [
    "## 一.ndarray的特性\n",
    "### 1.多维性"
   ],
   "id": "9e5e621185c63f50"
  },
  {
   "cell_type": "code",
   "id": "initial_id",
   "metadata": {
    "collapsed": true,
    "ExecuteTime": {
     "end_time": "2025-08-12T02:01:24.027338Z",
     "start_time": "2025-08-12T02:01:23.901015Z"
    }
   },
   "source": [
    "import numpy as np\n",
    "from numpy.matlib import randn\n",
    "\n",
    "arr0 = np.array(0)\n",
    "print(arr0)\n",
    "print(\"arr的维度为：\", arr0.ndim) #number of dimensions"
   ],
   "outputs": [
    {
     "name": "stdout",
     "output_type": "stream",
     "text": [
      "0\n",
      "arr的维度为： 0\n"
     ]
    }
   ],
   "execution_count": 2
  },
  {
   "metadata": {
    "ExecuteTime": {
     "end_time": "2025-08-10T05:42:13.644458Z",
     "start_time": "2025-08-10T05:42:13.639599Z"
    }
   },
   "cell_type": "code",
   "source": [
    "arr1 = np.array([1, 2, 3, 4, 5])\n",
    "print(arr1)\n",
    "print(\"arr1的维度为：\", arr1.ndim)"
   ],
   "id": "9336afad8b4ca1f8",
   "outputs": [
    {
     "name": "stdout",
     "output_type": "stream",
     "text": [
      "[1 2 3 4 5]\n",
      "arr的维度为： 1\n"
     ]
    }
   ],
   "execution_count": 3
  },
  {
   "metadata": {
    "ExecuteTime": {
     "end_time": "2025-08-10T05:43:19.754773Z",
     "start_time": "2025-08-10T05:43:19.750908Z"
    }
   },
   "cell_type": "code",
   "source": [
    "arr2 = np.array([[1, 2, 3], [4, 5, 6]])\n",
    "print(arr2)\n",
    "print(\"arr2的维度为：\", arr2.ndim)"
   ],
   "id": "b7bd0ed7063bb599",
   "outputs": [
    {
     "name": "stdout",
     "output_type": "stream",
     "text": [
      "[[1 2 3]\n",
      " [4 5 6]]\n",
      "arr2的维度为： 2\n"
     ]
    }
   ],
   "execution_count": 4
  },
  {
   "metadata": {},
   "cell_type": "markdown",
   "source": "### 2.同质性",
   "id": "cb7a266804aba090"
  },
  {
   "metadata": {
    "ExecuteTime": {
     "end_time": "2025-08-10T05:48:34.654583Z",
     "start_time": "2025-08-10T05:48:34.649850Z"
    }
   },
   "cell_type": "code",
   "source": [
    "arr0 = np.array([1,\"Hello\"])\n",
    "arr1 = np.array([1,2.5])\n",
    "print(arr0) #不同数据数据类型会被强制转换为相同类型\n",
    "print(arr1) #升维转换"
   ],
   "id": "a95f16f578d34e39",
   "outputs": [
    {
     "name": "stdout",
     "output_type": "stream",
     "text": [
      "['1' 'Hello']\n",
      "[1.  2.5]\n"
     ]
    }
   ],
   "execution_count": 7
  },
  {
   "metadata": {},
   "cell_type": "markdown",
   "source": "## 二.ndarray的属性",
   "id": "a1d63f96d2fa7a2b"
  },
  {
   "metadata": {
    "ExecuteTime": {
     "end_time": "2025-08-10T06:03:51.247317Z",
     "start_time": "2025-08-10T06:03:51.243025Z"
    }
   },
   "cell_type": "code",
   "source": [
    "arr0 = np.array(1)\n",
    "print(\"arr0数组的形状为：\", arr0.shape)\n",
    "print(\"arr0数组的维度为：\",arr0.ndim)\n",
    "print(\"arr0数组的元素个数为：\", arr0.size)\n",
    "print(\"arr0数组的数据类型为：\", arr0.dtype)"
   ],
   "id": "6fd38862c15cb8a0",
   "outputs": [
    {
     "name": "stdout",
     "output_type": "stream",
     "text": [
      "arr0数组的形状为： ()\n",
      "arr0数组的维度为： 0\n",
      "arr0数组的元素个数为： 1\n",
      "arr0数组的数据类型为： int64\n"
     ]
    }
   ],
   "execution_count": 14
  },
  {
   "metadata": {
    "ExecuteTime": {
     "end_time": "2025-08-10T06:04:33.966841Z",
     "start_time": "2025-08-10T06:04:33.962201Z"
    }
   },
   "cell_type": "code",
   "source": [
    "arr1 = np.array([1, 2, 3])\n",
    "print(\"arr1数组的形状为：\", arr1.shape)\n",
    "print(\"arr1数组的维度为：\",arr1.ndim)\n",
    "print(\"arr1数组的元素个数为：\", arr1.size)\n",
    "print(\"arr1数组的数据类型为：\", arr1.dtype)"
   ],
   "id": "b50083f0f91aedd3",
   "outputs": [
    {
     "name": "stdout",
     "output_type": "stream",
     "text": [
      "arr1数组的形状为： (3,)\n",
      "arr1数组的维度为： 1\n",
      "arr1数组的元素个数为： 3\n",
      "arr1数组的数据类型为： int64\n"
     ]
    }
   ],
   "execution_count": 15
  },
  {
   "metadata": {
    "ExecuteTime": {
     "end_time": "2025-08-10T06:04:36.002696Z",
     "start_time": "2025-08-10T06:04:35.998174Z"
    }
   },
   "cell_type": "code",
   "source": [
    "arr2 = np.array([[1, 2, 3],[4, 5, 6]])\n",
    "print(\"arr2数组的形状为：\", arr2.shape)\n",
    "print(\"arr2数组的维度为：\",arr2.ndim)\n",
    "print(\"arr2数组的元素个数为：\", arr2.size)\n",
    "print(\"arr2数组的数据类型为：\", arr2.dtype)"
   ],
   "id": "ba965082f670d221",
   "outputs": [
    {
     "name": "stdout",
     "output_type": "stream",
     "text": [
      "arr2数组的形状为： (2, 3)\n",
      "arr2数组的维度为： 2\n",
      "arr2数组的元素个数为： 6\n",
      "arr2数组的数据类型为： int64\n"
     ]
    }
   ],
   "execution_count": 16
  },
  {
   "metadata": {},
   "cell_type": "markdown",
   "source": "## 三.ndarray的创建",
   "id": "4ae168a81b79f7e5"
  },
  {
   "metadata": {
    "ExecuteTime": {
     "end_time": "2025-08-10T06:24:01.366043Z",
     "start_time": "2025-08-10T06:24:01.361149Z"
    }
   },
   "cell_type": "code",
   "source": [
    "# 基础创建方法\n",
    "arr = np.array([1, 2, 3],dtype=np.float64) #可以指定类型\n",
    "print(arr)"
   ],
   "id": "5dd055c2c7717d7b",
   "outputs": [
    {
     "name": "stdout",
     "output_type": "stream",
     "text": [
      "[1. 2. 3.]\n"
     ]
    }
   ],
   "execution_count": 18
  },
  {
   "metadata": {
    "ExecuteTime": {
     "end_time": "2025-08-10T06:25:21.459515Z",
     "start_time": "2025-08-10T06:25:21.455146Z"
    }
   },
   "cell_type": "code",
   "source": [
    "# copy\n",
    "arr1 = np.copy(arr)\n",
    "print(arr1)"
   ],
   "id": "40d5058086ea321b",
   "outputs": [
    {
     "name": "stdout",
     "output_type": "stream",
     "text": [
      "[1. 2. 3.]\n"
     ]
    }
   ],
   "execution_count": 19
  },
  {
   "metadata": {
    "ExecuteTime": {
     "end_time": "2025-08-10T06:38:51.699731Z",
     "start_time": "2025-08-10T06:38:51.695456Z"
    }
   },
   "cell_type": "code",
   "source": [
    "# 预定义形状的\n",
    "# 全0\n",
    "arr0 = np.zeros((2, 3))\n",
    "print(arr0)\n",
    "print(arr0.dtype)"
   ],
   "id": "d12a09bc6d35ee7f",
   "outputs": [
    {
     "name": "stdout",
     "output_type": "stream",
     "text": [
      "[[0. 0. 0.]\n",
      " [0. 0. 0.]]\n",
      "float64\n"
     ]
    }
   ],
   "execution_count": 45
  },
  {
   "metadata": {
    "ExecuteTime": {
     "end_time": "2025-08-10T06:38:53.363440Z",
     "start_time": "2025-08-10T06:38:53.358992Z"
    }
   },
   "cell_type": "code",
   "source": [
    "# 全1\n",
    "arr1 = np.ones((2, 3))\n",
    "print(arr1)"
   ],
   "id": "1948f69ced8e4b42",
   "outputs": [
    {
     "name": "stdout",
     "output_type": "stream",
     "text": [
      "[[1. 1. 1.]\n",
      " [1. 1. 1.]]\n"
     ]
    }
   ],
   "execution_count": 46
  },
  {
   "metadata": {
    "ExecuteTime": {
     "end_time": "2025-08-10T06:38:54.881173Z",
     "start_time": "2025-08-10T06:38:54.876908Z"
    }
   },
   "cell_type": "code",
   "source": [
    "# 未初始化\n",
    "arr2 = np.empty((2, 3))\n",
    "print(arr2)"
   ],
   "id": "51df3d29be5675d3",
   "outputs": [
    {
     "name": "stdout",
     "output_type": "stream",
     "text": [
      "[[1. 1. 1.]\n",
      " [1. 1. 1.]]\n"
     ]
    }
   ],
   "execution_count": 47
  },
  {
   "metadata": {
    "ExecuteTime": {
     "end_time": "2025-08-10T06:39:08.526772Z",
     "start_time": "2025-08-10T06:39:08.522061Z"
    }
   },
   "cell_type": "code",
   "source": [
    "# 填充\n",
    "arr3 = np.full((2, 3), 5)\n",
    "print(arr3)"
   ],
   "id": "5ba9ad8d4520eb64",
   "outputs": [
    {
     "name": "stdout",
     "output_type": "stream",
     "text": [
      "[[5 5 5]\n",
      " [5 5 5]]\n"
     ]
    }
   ],
   "execution_count": 48
  },
  {
   "metadata": {
    "ExecuteTime": {
     "end_time": "2025-08-10T06:42:59.934521Z",
     "start_time": "2025-08-10T06:42:59.929754Z"
    }
   },
   "cell_type": "code",
   "source": [
    "# 预定义形状,like谁就是谁的形状\n",
    "arr4 = np.zeros_like(arr3)\n",
    "print(arr4)\n",
    "arr5 = np.ones_like(arr3)\n",
    "print(arr5)\n",
    "arr6 = np.empty_like(arr3)\n",
    "print(arr6)\n",
    "arr7 = np.full_like(arr3, 2025)\n",
    "print(arr7)"
   ],
   "id": "e5b0698c1a369292",
   "outputs": [
    {
     "name": "stdout",
     "output_type": "stream",
     "text": [
      "[[0 0 0]\n",
      " [0 0 0]]\n",
      "[[1 1 1]\n",
      " [1 1 1]]\n",
      "[[4607182418800017408 4607182418800017408 4607182418800017408]\n",
      " [4607182418800017408 4607182418800017408 4607182418800017408]]\n",
      "[[2025 2025 2025]\n",
      " [2025 2025 2025]]\n"
     ]
    }
   ],
   "execution_count": 49
  },
  {
   "metadata": {
    "ExecuteTime": {
     "end_time": "2025-08-11T11:00:49.808194Z",
     "start_time": "2025-08-11T11:00:49.803834Z"
    }
   },
   "cell_type": "code",
   "source": [
    "# 等差数列\n",
    "arr = np.arange(1, 10, 2) #start, stop, step\n",
    "print(arr)"
   ],
   "id": "a1f705569535704f",
   "outputs": [
    {
     "name": "stdout",
     "output_type": "stream",
     "text": [
      "[1 3 5 7 9]\n"
     ]
    }
   ],
   "execution_count": 4
  },
  {
   "metadata": {
    "ExecuteTime": {
     "end_time": "2025-08-11T11:02:43.219194Z",
     "start_time": "2025-08-11T11:02:43.216002Z"
    }
   },
   "cell_type": "code",
   "source": [
    "# 等间隔的数列\n",
    "arr = np.linspace(1, 10, 5) #把1到10等分为5份\n",
    "print(arr)"
   ],
   "id": "99e7791a0be8f08",
   "outputs": [
    {
     "name": "stdout",
     "output_type": "stream",
     "text": [
      "[ 1.    3.25  5.5   7.75 10.  ]\n"
     ]
    }
   ],
   "execution_count": 6
  },
  {
   "metadata": {
    "ExecuteTime": {
     "end_time": "2025-08-11T11:14:40.239679Z",
     "start_time": "2025-08-11T11:14:40.235747Z"
    }
   },
   "cell_type": "code",
   "source": [
    "# 指对数间隔数列\n",
    "arr = np.logspace(0, 4, 3, base=2) #创建等比数列（对数刻度）的数组\n",
    "\"这里先将0-4分成3份，即linspace的用法，之后将其中的每一个都按base的幂打印出来\"\n",
    "print(arr)"
   ],
   "id": "5127be697ab79387",
   "outputs": [
    {
     "name": "stdout",
     "output_type": "stream",
     "text": [
      "[ 1.  4. 16.]\n"
     ]
    }
   ],
   "execution_count": 8
  },
  {
   "metadata": {
    "ExecuteTime": {
     "end_time": "2025-08-11T11:35:47.871030Z",
     "start_time": "2025-08-11T11:35:47.866904Z"
    }
   },
   "cell_type": "code",
   "source": [
    "arr = np.logspace(0,4,3,base=3)\n",
    "print(arr)"
   ],
   "id": "c1da6b1832c7515b",
   "outputs": [
    {
     "name": "stdout",
     "output_type": "stream",
     "text": [
      "[ 1.  9. 81.]\n"
     ]
    }
   ],
   "execution_count": 15
  },
  {
   "metadata": {
    "ExecuteTime": {
     "end_time": "2025-08-11T11:58:58.654575Z",
     "start_time": "2025-08-11T11:58:58.651542Z"
    }
   },
   "cell_type": "code",
   "source": [
    "# 特殊矩阵的构造\n",
    "#单位矩阵：主对角线上的数字为1，其他为0\n",
    "arr = np.eye(3,dtype=int)\n",
    "print(arr)"
   ],
   "id": "c6739a8498ed0d0c",
   "outputs": [
    {
     "name": "stdout",
     "output_type": "stream",
     "text": [
      "[[1 0 0]\n",
      " [0 1 0]\n",
      " [0 0 1]]\n"
     ]
    }
   ],
   "execution_count": 21
  },
  {
   "metadata": {
    "ExecuteTime": {
     "end_time": "2025-08-11T12:01:19.025165Z",
     "start_time": "2025-08-11T12:01:19.021033Z"
    }
   },
   "cell_type": "code",
   "source": [
    "#对角矩阵：矩阵的元素全部为0，主对角线上的元素为非零\n",
    "arr = np.diag([1,2,3,4])\n",
    "print(arr)"
   ],
   "id": "e48818e74783167c",
   "outputs": [
    {
     "name": "stdout",
     "output_type": "stream",
     "text": [
      "[[1 0 0 0]\n",
      " [0 2 0 0]\n",
      " [0 0 3 0]\n",
      " [0 0 0 4]]\n"
     ]
    }
   ],
   "execution_count": 23
  },
  {
   "metadata": {
    "ExecuteTime": {
     "end_time": "2025-08-11T12:07:34.111301Z",
     "start_time": "2025-08-11T12:07:34.104483Z"
    }
   },
   "cell_type": "code",
   "source": [
    "#随机数组的生成\n",
    "arr = np.random.rand(2,3) #默认0-1间的随机浮点数\n",
    "print(arr)\n",
    "arr = np.random.uniform(1,10,(2,3)) #指定范围的指定形状的随机浮点数\n",
    "print(arr)\n",
    "arr = np.random.randint(1,10,(2,3)) #指定范围的指定形状的随机整数\n",
    "print(arr)"
   ],
   "id": "83a2172a08a45595",
   "outputs": [
    {
     "name": "stdout",
     "output_type": "stream",
     "text": [
      "[[0.11581236 0.57824211 0.18753199]\n",
      " [0.38768878 0.34761466 0.03140773]]\n",
      "[[8.47918037 9.57978514 3.49462169]\n",
      " [2.63513419 4.07071549 2.39733427]]\n",
      "[[6 7 5]\n",
      " [4 2 7]]\n"
     ]
    }
   ],
   "execution_count": 32
  },
  {
   "metadata": {
    "ExecuteTime": {
     "end_time": "2025-08-11T12:12:00.595895Z",
     "start_time": "2025-08-11T12:12:00.590891Z"
    }
   },
   "cell_type": "code",
   "source": [
    "# 生成随机数列（正态分布）,默认标准正态分布，均值为0，方差为1\n",
    "arr = np.random.randn(2,3)\n",
    "print(arr)"
   ],
   "id": "deb2fceaa927037b",
   "outputs": [
    {
     "name": "stdout",
     "output_type": "stream",
     "text": [
      "[[ 1.34552837  1.83312409  0.11193052]\n",
      " [ 0.29362343 -1.06220854  1.88564043]]\n"
     ]
    }
   ],
   "execution_count": 34
  },
  {
   "metadata": {
    "ExecuteTime": {
     "end_time": "2025-08-11T12:14:49.437218Z",
     "start_time": "2025-08-11T12:14:49.433990Z"
    }
   },
   "cell_type": "code",
   "source": [
    "# 设置随机种子\n",
    "np.random.seed(20)\n",
    "arr = np.random.randint(1,10,(2,3))\n",
    "print(arr)"
   ],
   "id": "acad83f7d9a91b13",
   "outputs": [
    {
     "name": "stdout",
     "output_type": "stream",
     "text": [
      "[[4 5 7]\n",
      " [8 3 1]]\n"
     ]
    }
   ],
   "execution_count": 41
  },
  {
   "metadata": {},
   "cell_type": "markdown",
   "source": "## 四.ndarray的数据类型",
   "id": "e1ffc7a1219c9fe"
  },
  {
   "metadata": {
    "ExecuteTime": {
     "end_time": "2025-08-11T12:26:49.122596Z",
     "start_time": "2025-08-11T12:26:49.119376Z"
    }
   },
   "cell_type": "code",
   "source": [
    "# 布尔类型\n",
    "arr = np.array([1, 0, 1, 1, 0, 0], dtype=bool)\n",
    "print(arr)\n",
    "# 整数类型\n",
    "arr = np.array([1, 2, 127], dtype=np.int8) #当大于等于128时，会超范围\n",
    "print(arr)"
   ],
   "id": "11cf65ec7e0cbc3b",
   "outputs": [
    {
     "name": "stdout",
     "output_type": "stream",
     "text": [
      "[ True False  True  True False False]\n",
      "[  1   2 127]\n"
     ]
    }
   ],
   "execution_count": 46
  },
  {
   "metadata": {},
   "cell_type": "markdown",
   "source": "## 五.索引和切片",
   "id": "aaca1a49939fcda8"
  },
  {
   "metadata": {
    "ExecuteTime": {
     "end_time": "2025-08-11T12:46:49.101284Z",
     "start_time": "2025-08-11T12:46:49.096478Z"
    }
   },
   "cell_type": "code",
   "source": [
    "# 一维数组的\n",
    "arr = np.random.randint(1,100,20)\n",
    "print(arr)\n",
    "print(arr[0]) #索引\n",
    "print(arr[1:5]) #切片\n",
    "print(arr[(arr > 2) & (arr < 20)]) #布尔筛选"
   ],
   "id": "41bc03676accdcfb",
   "outputs": [
    {
     "name": "stdout",
     "output_type": "stream",
     "text": [
      "[16 66 31 89 50 41 12 70  1 59 87 38 69 19 10 58 15 36 76 24]\n",
      "16\n",
      "[66 31 89 50]\n",
      "[16 12 19 10 15]\n"
     ]
    }
   ],
   "execution_count": 53
  },
  {
   "metadata": {
    "ExecuteTime": {
     "end_time": "2025-08-11T12:57:35.543093Z",
     "start_time": "2025-08-11T12:57:35.539929Z"
    }
   },
   "cell_type": "code",
   "source": [
    "# 二维数组的\n",
    "arr = np.random.randint(1,100,(4,8))\n",
    "print(arr)\n",
    "print(arr[1,1]) #索引\n",
    "print(arr[1,2:4]) #切片\n",
    "print(arr[2][arr[2] > 50])"
   ],
   "id": "659835c3e5541d9c",
   "outputs": [
    {
     "name": "stdout",
     "output_type": "stream",
     "text": [
      "[[34 22 69  7 19 33 25 21]\n",
      " [ 9 73 50 63 30 76 84 17]\n",
      " [55 54 74 83 67 31 55 66]\n",
      " [45 96 44 59 36 41 22  1]]\n",
      "73\n",
      "[50 63]\n",
      "[55 54 74 83 67 55 66]\n"
     ]
    }
   ],
   "execution_count": 59
  },
  {
   "metadata": {},
   "cell_type": "markdown",
   "source": "## 六.数组的运算",
   "id": "309356d12e2c203a"
  },
  {
   "metadata": {
    "ExecuteTime": {
     "end_time": "2025-08-12T02:01:33.347081Z",
     "start_time": "2025-08-12T02:01:33.337459Z"
    }
   },
   "cell_type": "code",
   "source": [
    "# 多维的亦没有问题\n",
    "arr1 = np.array([1,2,3])\n",
    "arr2 = np.array([4,5,6])\n",
    "print(arr1 + arr2)\n",
    "print(arr1 * arr2)\n",
    "print(arr1 - arr2)\n",
    "print(arr1 / arr2)"
   ],
   "id": "d1af92525d9c093",
   "outputs": [
    {
     "name": "stdout",
     "output_type": "stream",
     "text": [
      "[5 7 9]\n",
      "[ 4 10 18]\n",
      "[-3 -3 -3]\n",
      "[0.25 0.4  0.5 ]\n"
     ]
    }
   ],
   "execution_count": 3
  },
  {
   "metadata": {
    "ExecuteTime": {
     "end_time": "2025-08-12T02:07:40.201670Z",
     "start_time": "2025-08-12T02:07:40.197251Z"
    }
   },
   "cell_type": "code",
   "source": [
    "# 广播机制；是否可以广播看同一维度：相同，1即可广播\n",
    "a = np.array([1,2,3]) #1*3\n",
    "b = np.array([[4],[5],[6]]) #3*1\n",
    "\"a\"\n",
    "\"1 2 3\"\n",
    "\"1 2 3\"\n",
    "\"1 2 3\"\n",
    "\"b\"\n",
    "\"4 4 4\"\n",
    "\"5 5 5\"\n",
    "\"6 6 6\"\n",
    "print(a + b)"
   ],
   "id": "cde67daaf0a8ec69",
   "outputs": [
    {
     "name": "stdout",
     "output_type": "stream",
     "text": [
      "[[5 6 7]\n",
      " [6 7 8]\n",
      " [7 8 9]]\n"
     ]
    }
   ],
   "execution_count": 5
  },
  {
   "metadata": {
    "ExecuteTime": {
     "end_time": "2025-08-12T02:17:38.291874Z",
     "start_time": "2025-08-12T02:17:38.286445Z"
    }
   },
   "cell_type": "code",
   "source": [
    "# 矩阵的运算\n",
    "a = np.array([[1,2,3],[4,5,6],[7,8,9]])\n",
    "b = np.array([[4,5,6],[7,8,9],[1,2,3]])\n",
    "print(a * b) #普通乘法\n",
    "print(a @ b) #矩阵乘法\n",
    "(\"普通乘法对应位置相乘即可\"\n",
    " \"矩阵乘法求[n,m]即a矩阵第n行所有数与b矩阵第m列所有数相乘再相加的结果\"\n",
    " \"如[0,0]:1*4+2*7+3*1=21\")"
   ],
   "id": "a8995f9fa942d738",
   "outputs": [
    {
     "name": "stdout",
     "output_type": "stream",
     "text": [
      "[[ 4 10 18]\n",
      " [28 40 54]\n",
      " [ 7 16 27]]\n",
      "[[ 21  27  33]\n",
      " [ 57  72  87]\n",
      " [ 93 117 141]]\n"
     ]
    },
    {
     "data": {
      "text/plain": [
       "'普通乘法对应位置相乘即可矩阵乘法求[n,m]即a矩阵第n行所有数与b矩阵第m列所有数相乘再相加的结果'"
      ]
     },
     "execution_count": 10,
     "metadata": {},
     "output_type": "execute_result"
    }
   ],
   "execution_count": 10
  },
  {
   "metadata": {},
   "cell_type": "markdown",
   "source": [
    "## 七.函数的运用\n",
    "### 1.基本数学函数"
   ],
   "id": "22dd51ac31b7cd88"
  },
  {
   "metadata": {
    "ExecuteTime": {
     "end_time": "2025-08-12T02:36:15.829610Z",
     "start_time": "2025-08-12T02:36:15.825475Z"
    }
   },
   "cell_type": "code",
   "source": [
    "# 计算平方根\n",
    "print(np.sqrt(16))\n",
    "print(np.sqrt([16, 25, 36]))"
   ],
   "id": "8c62dcd284fbfac5",
   "outputs": [
    {
     "name": "stdout",
     "output_type": "stream",
     "text": [
      "4.0\n",
      "[4. 5. 6.]\n"
     ]
    }
   ],
   "execution_count": 12
  },
  {
   "metadata": {
    "ExecuteTime": {
     "end_time": "2025-08-12T02:37:55.524168Z",
     "start_time": "2025-08-12T02:37:55.519802Z"
    }
   },
   "cell_type": "code",
   "source": [
    "# 计算指数\n",
    "print(np.exp(1)) #计算e^x"
   ],
   "id": "af459d7f461767eb",
   "outputs": [
    {
     "name": "stdout",
     "output_type": "stream",
     "text": [
      "2.718281828459045\n"
     ]
    }
   ],
   "execution_count": 14
  },
  {
   "metadata": {
    "ExecuteTime": {
     "end_time": "2025-08-12T02:54:19.848752Z",
     "start_time": "2025-08-12T02:54:19.844848Z"
    }
   },
   "cell_type": "code",
   "source": [
    "# 计算自然对数\n",
    "print(np.log(2.718281828459045)) #计算ln(x)"
   ],
   "id": "93d3b221fdbcde28",
   "outputs": [
    {
     "name": "stdout",
     "output_type": "stream",
     "text": [
      "1.0\n"
     ]
    }
   ],
   "execution_count": 18
  },
  {
   "metadata": {
    "ExecuteTime": {
     "end_time": "2025-08-12T02:57:38.856378Z",
     "start_time": "2025-08-12T02:57:38.853099Z"
    }
   },
   "cell_type": "code",
   "source": [
    "# 计算正余弦值\n",
    "print(np.sin(1))\n",
    "print(np.cos(1))\n",
    "print(np.tan(1))\n",
    "print(np.arcsin(1))\n",
    "print(np.arccos(1))\n",
    "print(np.arctan(1))\n",
    "print(np.cos(np.pi))"
   ],
   "id": "12a1bcf4460f3e92",
   "outputs": [
    {
     "name": "stdout",
     "output_type": "stream",
     "text": [
      "0.8414709848078965\n",
      "0.5403023058681398\n",
      "1.5574077246549023\n",
      "1.5707963267948966\n",
      "0.0\n",
      "0.7853981633974483\n",
      "-1.0\n"
     ]
    }
   ],
   "execution_count": 22
  },
  {
   "metadata": {
    "ExecuteTime": {
     "end_time": "2025-08-12T02:58:22.249780Z",
     "start_time": "2025-08-12T02:58:22.246906Z"
    }
   },
   "cell_type": "code",
   "source": [
    "# 计算绝对值\n",
    "arr = np.array([-1, -2, 3, 4])\n",
    "print(np.abs(arr))"
   ],
   "id": "8fc6f76f4863b6be",
   "outputs": [
    {
     "name": "stdout",
     "output_type": "stream",
     "text": [
      "[1 2 3 4]\n"
     ]
    }
   ],
   "execution_count": 24
  },
  {
   "metadata": {
    "ExecuteTime": {
     "end_time": "2025-08-12T02:59:37.470951Z",
     "start_time": "2025-08-12T02:59:37.467021Z"
    }
   },
   "cell_type": "code",
   "source": [
    "# 幂运算\n",
    "print(np.power(2, 3))"
   ],
   "id": "694669d5193ebb97",
   "outputs": [
    {
     "name": "stdout",
     "output_type": "stream",
     "text": [
      "8\n"
     ]
    }
   ],
   "execution_count": 26
  },
  {
   "metadata": {
    "ExecuteTime": {
     "end_time": "2025-08-12T03:03:34.078764Z",
     "start_time": "2025-08-12T03:03:34.075476Z"
    }
   },
   "cell_type": "code",
   "source": [
    "# 四舍五入\n",
    "print(np.round(3.1415926, 2))\n",
    "# 向上取整与向下取整\n",
    "print(np.ceil(3.1)) #向上取整,ceil天花板\n",
    "print(np.floor(3.1)) #向下取整,floor地板"
   ],
   "id": "46608511fc3c473",
   "outputs": [
    {
     "name": "stdout",
     "output_type": "stream",
     "text": [
      "3.14\n",
      "4.0\n",
      "3.0\n"
     ]
    }
   ],
   "execution_count": 32
  },
  {
   "metadata": {
    "ExecuteTime": {
     "end_time": "2025-08-12T03:04:23.009919Z",
     "start_time": "2025-08-12T03:04:23.003493Z"
    }
   },
   "cell_type": "code",
   "source": [
    "# 检测缺失值\n",
    "np.isnan([1,2,3,np.nan])"
   ],
   "id": "ee8fe42c35f76d7d",
   "outputs": [
    {
     "data": {
      "text/plain": [
       "array([False, False, False,  True])"
      ]
     },
     "execution_count": 34,
     "metadata": {},
     "output_type": "execute_result"
    }
   ],
   "execution_count": 34
  },
  {
   "metadata": {},
   "cell_type": "markdown",
   "source": "### 2.统计函数",
   "id": "b288bbf1aa7ee602"
  },
  {
   "metadata": {
    "ExecuteTime": {
     "end_time": "2025-08-12T03:15:43.585917Z",
     "start_time": "2025-08-12T03:15:43.582251Z"
    }
   },
   "cell_type": "code",
   "source": [
    "arr = np.random.randint(1,20,8)\n",
    "print(arr)\n",
    "# 求和\n",
    "print(np.sum(arr))\n",
    "# 求均值\n",
    "print(np.mean(arr))\n",
    "# 求中位数\n",
    "print(np.median(arr)) #总数奇数，值为中值；数总数偶数，值为中间两数均值"
   ],
   "id": "714e5561ba1ce0a5",
   "outputs": [
    {
     "name": "stdout",
     "output_type": "stream",
     "text": [
      "[19 16 15 19  9 15 10  3]\n",
      "106\n",
      "13.25\n",
      "15.0\n"
     ]
    }
   ],
   "execution_count": 51
  },
  {
   "metadata": {
    "ExecuteTime": {
     "end_time": "2025-08-12T03:20:38.247116Z",
     "start_time": "2025-08-12T03:20:38.243210Z"
    }
   },
   "cell_type": "code",
   "source": [
    "# 求方差\n",
    "\"1.先求均值=2\"\n",
    "\"2.每个数减均值平方求和/个数：((1-2)^2+(2-2)^2+(3-2)^2) / 3 = 0.66\"\n",
    "print(np.var([1,2,3]))\n",
    "# 求标准差\n",
    "\"1.先求方差,再多方差开根\"\n",
    "print(np.std([1,2,3]))"
   ],
   "id": "859e53afe094e84e",
   "outputs": [
    {
     "name": "stdout",
     "output_type": "stream",
     "text": [
      "0.6666666666666666\n",
      "0.816496580927726\n"
     ]
    }
   ],
   "execution_count": 53
  },
  {
   "metadata": {
    "ExecuteTime": {
     "end_time": "2025-08-12T03:28:27.581868Z",
     "start_time": "2025-08-12T03:28:27.578819Z"
    }
   },
   "cell_type": "code",
   "source": [
    "print(arr)\n",
    "# 最大值\n",
    "print(np.max(arr),np.argmax(arr)) #后面可以获取最大值的索引\n",
    "# 最小值\n",
    "print(np.min(arr),np.argmin(arr))"
   ],
   "id": "6116dfb129d4f30d",
   "outputs": [
    {
     "name": "stdout",
     "output_type": "stream",
     "text": [
      "[19 16 15 19  9 15 10  3]\n",
      "19 0\n",
      "3 7\n"
     ]
    }
   ],
   "execution_count": 57
  },
  {
   "metadata": {
    "ExecuteTime": {
     "end_time": "2025-08-12T03:48:17.463890Z",
     "start_time": "2025-08-12T03:48:17.456972Z"
    }
   },
   "cell_type": "code",
   "source": [
    "np.random.seed(0)\n",
    "arr = np.random.randint(1,100,4)\n",
    "print(arr)\n",
    "# 分位数\n",
    "print(np.percentile(arr, 25)) #25%位置的数\n",
    "\"计算过程：总数个数*x%=y , 查原来的数第y和y+1的均值\""
   ],
   "id": "606fa4f7b61d1f3e",
   "outputs": [
    {
     "name": "stdout",
     "output_type": "stream",
     "text": [
      "[45 48 65 68]\n",
      "47.25\n"
     ]
    },
    {
     "data": {
      "text/plain": [
       "'计算过程：总数个数*x%=y , 查原来的数第y和y+1的均值'"
      ]
     },
     "execution_count": 64,
     "metadata": {},
     "output_type": "execute_result"
    }
   ],
   "execution_count": 64
  },
  {
   "metadata": {
    "ExecuteTime": {
     "end_time": "2025-08-12T03:50:41.691560Z",
     "start_time": "2025-08-12T03:50:41.688350Z"
    }
   },
   "cell_type": "code",
   "source": [
    "# 累积和、累积积\n",
    "arr = np.array([1,2,3])\n",
    "print(np.sum(arr))\n",
    "print(np.cumsum(arr)) #累积和，[1, 1+2 , 1+2+3]\n",
    "print(np.cumprod(arr)) #累积积，[1, 1*2 , 1*2*3]"
   ],
   "id": "f787625be4943af0",
   "outputs": [
    {
     "name": "stdout",
     "output_type": "stream",
     "text": [
      "6\n",
      "[1 3 6]\n",
      "[1 2 6]\n"
     ]
    }
   ],
   "execution_count": 66
  },
  {
   "metadata": {},
   "cell_type": "markdown",
   "source": "### 3.比较函数",
   "id": "77211c82ced87172"
  },
  {
   "metadata": {
    "ExecuteTime": {
     "end_time": "2025-08-12T07:57:58.775461Z",
     "start_time": "2025-08-12T07:57:58.770716Z"
    }
   },
   "cell_type": "code",
   "source": [
    "# 是否大于\n",
    "print(np.greater([1,2,3,4,5,6],4))\n",
    "# 是否小于\n",
    "print(np.less([1,2,3,4,5,6],4))\n",
    "# 是否等于\n",
    "print(np.equal([1,2,3,4,5,6],4))"
   ],
   "id": "45f491c5a8dcea8e",
   "outputs": [
    {
     "name": "stdout",
     "output_type": "stream",
     "text": [
      "[False False False False  True  True]\n",
      "[ True  True  True False False False]\n",
      "[False False False  True False False]\n"
     ]
    }
   ],
   "execution_count": 69
  },
  {
   "metadata": {
    "ExecuteTime": {
     "end_time": "2025-08-12T08:19:20.097039Z",
     "start_time": "2025-08-12T08:19:20.089808Z"
    }
   },
   "cell_type": "code",
   "source": [
    "# 逻辑运算：与、或、非\n",
    "print(np.logical_and([1,0],[1,1]))\n",
    "print(np.logical_or([1,0],[1,1]))\n",
    "print(np.logical_not([1,0]))\n",
    "# 检查元素是否至少有一个为True\n",
    "print(np.any([1,0]))\n",
    "# 检查元素是否全部为True\n",
    "print(np.all([1,0]))\n",
    "# 自定义条件\n",
    "arr = np.array([1,2,3,4,5,6])\n",
    "print(np.where(arr>3,arr,-1))\n",
    "# 多条件\n",
    "arr = np.random.randint(1,100,20)\n",
    "print(arr)\n",
    "print(np.select([arr<60,(arr>=60) & (arr<=80),arr>80],[\"bad\",\"good\",\"excellent\"],default=\"NAN\"))\n"
   ],
   "id": "914148b47420b70",
   "outputs": [
    {
     "name": "stdout",
     "output_type": "stream",
     "text": [
      "[ True False]\n",
      "[ True  True]\n",
      "[False  True]\n",
      "True\n",
      "False\n",
      "[-1 -1 -1  4  5  6]\n",
      "[48  4 77 53 79 16 21 59 24 80 14 86 49 50 70 42 36 65 96 70]\n",
      "['bad' 'bad' 'good' 'bad' 'good' 'bad' 'bad' 'bad' 'bad' 'good' 'bad'\n",
      " 'excellent' 'bad' 'bad' 'good' 'bad' 'bad' 'good' 'excellent' 'good']\n"
     ]
    }
   ],
   "execution_count": 79
  },
  {
   "metadata": {},
   "cell_type": "markdown",
   "source": "### 4.排序函数",
   "id": "49450b184e0a93cd"
  },
  {
   "metadata": {
    "ExecuteTime": {
     "end_time": "2025-08-12T08:23:50.750304Z",
     "start_time": "2025-08-12T08:23:50.738803Z"
    }
   },
   "cell_type": "code",
   "source": [
    "np.random.seed(0)\n",
    "arr = np.random.randint(1,100,20)\n",
    "print(arr)\n",
    "print(np.sort(arr)) #默认升序,不会修改原数组\n",
    "#arr.sort() #升序,会修改原数组\n",
    "print(arr)\n",
    "print(np.argsort(arr)) #获取排序后的索引"
   ],
   "id": "1432dc276e2990a0",
   "outputs": [
    {
     "name": "stdout",
     "output_type": "stream",
     "text": [
      "[45 48 65 68 68 10 84 22 37 88 71 89 89 13 59 66 40 88 47 89]\n",
      "[10 13 22 37 40 45 47 48 59 65 66 68 68 71 84 88 88 89 89 89]\n",
      "[45 48 65 68 68 10 84 22 37 88 71 89 89 13 59 66 40 88 47 89]\n",
      "[ 5 13  7  8 16  0 18  1 14  2 15  3  4 10  6  9 17 11 12 19]\n"
     ]
    }
   ],
   "execution_count": 84
  },
  {
   "metadata": {},
   "cell_type": "markdown",
   "source": "### 5.去重函数",
   "id": "1038dd9da5a4fb45"
  },
  {
   "metadata": {
    "ExecuteTime": {
     "end_time": "2025-08-12T08:24:59.488883Z",
     "start_time": "2025-08-12T08:24:59.485248Z"
    }
   },
   "cell_type": "code",
   "source": [
    "np.random.seed(0)\n",
    "arr = np.random.randint(1,100,20)\n",
    "print(arr)\n",
    "print(np.unique(arr))"
   ],
   "id": "1b89d8ecbf2a3cd9",
   "outputs": [
    {
     "name": "stdout",
     "output_type": "stream",
     "text": [
      "[45 48 65 68 68 10 84 22 37 88 71 89 89 13 59 66 40 88 47 89]\n",
      "[10 13 22 37 40 45 47 48 59 65 66 68 71 84 88 89]\n"
     ]
    }
   ],
   "execution_count": 86
  },
  {
   "metadata": {},
   "cell_type": "markdown",
   "source": "### 6.其他函数",
   "id": "92ff4cfce1fe2c0d"
  },
  {
   "metadata": {
    "ExecuteTime": {
     "end_time": "2025-08-12T08:25:58.773338Z",
     "start_time": "2025-08-12T08:25:58.770414Z"
    }
   },
   "cell_type": "code",
   "source": [
    "# 拼接数组\n",
    "arr1 = np.array([1,2,3])\n",
    "arr2 = np.array([4,5,6])\n",
    "print(np.concatenate([arr1,arr2]))"
   ],
   "id": "ab708d8a681e4bf",
   "outputs": [
    {
     "name": "stdout",
     "output_type": "stream",
     "text": [
      "[1 2 3 4 5 6]\n"
     ]
    }
   ],
   "execution_count": 87
  },
  {
   "metadata": {
    "ExecuteTime": {
     "end_time": "2025-08-12T08:29:09.123292Z",
     "start_time": "2025-08-12T08:29:09.119533Z"
    }
   },
   "cell_type": "code",
   "source": [
    "# 数组的分隔\n",
    "np.random.seed(0)\n",
    "arr = np.random.randint(1,100,20)\n",
    "print(arr)\n",
    "print(np.split(arr,5))\n",
    "print(np.split(arr,[6,12,18])) #按索引位置切割"
   ],
   "id": "f67bf3ca9144596c",
   "outputs": [
    {
     "name": "stdout",
     "output_type": "stream",
     "text": [
      "[45 48 65 68 68 10 84 22 37 88 71 89 89 13 59 66 40 88 47 89]\n",
      "[array([45, 48, 65, 68], dtype=int32), array([68, 10, 84, 22], dtype=int32), array([37, 88, 71, 89], dtype=int32), array([89, 13, 59, 66], dtype=int32), array([40, 88, 47, 89], dtype=int32)]\n",
      "[array([45, 48, 65, 68, 68, 10], dtype=int32), array([84, 22, 37, 88, 71, 89], dtype=int32), array([89, 13, 59, 66, 40, 88], dtype=int32), array([47, 89], dtype=int32)]\n"
     ]
    }
   ],
   "execution_count": 89
  },
  {
   "metadata": {
    "ExecuteTime": {
     "end_time": "2025-08-12T08:30:51.910324Z",
     "start_time": "2025-08-12T08:30:51.907229Z"
    }
   },
   "cell_type": "code",
   "source": [
    "# 调整数组的形状\n",
    "print(arr)\n",
    "print(np.reshape(arr,[5,4]))"
   ],
   "id": "8164ff49716475cf",
   "outputs": [
    {
     "name": "stdout",
     "output_type": "stream",
     "text": [
      "[45 48 65 68 68 10 84 22 37 88 71 89 89 13 59 66 40 88 47 89]\n",
      "[[45 48 65 68]\n",
      " [68 10 84 22]\n",
      " [37 88 71 89]\n",
      " [89 13 59 66]\n",
      " [40 88 47 89]]\n"
     ]
    }
   ],
   "execution_count": 91
  },
  {
   "metadata": {},
   "cell_type": "markdown",
   "source": "## 八.章节练习",
   "id": "cf240ea82bc31fac"
  },
  {
   "metadata": {},
   "cell_type": "code",
   "outputs": [],
   "execution_count": null,
   "source": [
    "\"\"\"\n",
    "题目1：温度数据分析\n",
    "某城市一周的最高气温（°℃）为[28，30，29，31，32，30，29]。\n",
    "计算平均气温、最高气温和最低气温。\n",
    "找出气温超过30℃的天数。\n",
    "\"\"\""
   ],
   "id": "c5b666a89b03fc10"
  },
  {
   "metadata": {
    "ExecuteTime": {
     "end_time": "2025-08-12T08:45:37.147908Z",
     "start_time": "2025-08-12T08:45:37.144820Z"
    }
   },
   "cell_type": "code",
   "source": [
    "import numpy as np\n",
    "arr = np.array([28,30,29,31,32,30,29])\n",
    "print(round(np.mean(arr),2))\n",
    "print(np.max(arr))\n",
    "print(np.min(arr))\n",
    "print(np.sum(arr>30))"
   ],
   "id": "107a6a9fc512759c",
   "outputs": [
    {
     "name": "stdout",
     "output_type": "stream",
     "text": [
      "29.86\n",
      "32\n",
      "28\n",
      "2\n"
     ]
    }
   ],
   "execution_count": 97
  },
  {
   "metadata": {},
   "cell_type": "code",
   "outputs": [],
   "execution_count": null,
   "source": [
    "\"\"\"\n",
    "题目2：学生成绩统计\n",
    "某班级及5名学生的数学成绩为[85， 90， 78， 92， 88]。\n",
    "计算成绩的平均分、中位数和标准差。\n",
    "将成绩转换为十分制（假设满分为10)\n",
    "\"\"\""
   ],
   "id": "88936f759de9eca0"
  },
  {
   "metadata": {
    "ExecuteTime": {
     "end_time": "2025-08-12T08:55:19.787579Z",
     "start_time": "2025-08-12T08:55:19.783171Z"
    }
   },
   "cell_type": "code",
   "source": [
    "arr = np.array([85, 90, 78, 92, 88])\n",
    "print(np.mean(arr))\n",
    "print(np.median(arr))\n",
    "print(np.std(arr))\n",
    "print(np.round(arr/10,2))"
   ],
   "id": "ac5678a6b7ada7c4",
   "outputs": [
    {
     "name": "stdout",
     "output_type": "stream",
     "text": [
      "86.6\n",
      "88.0\n",
      "4.882622246293481\n",
      "[8.5 9.  7.8 9.2 8.8]\n"
     ]
    }
   ],
   "execution_count": 99
  },
  {
   "metadata": {},
   "cell_type": "code",
   "outputs": [],
   "execution_count": null,
   "source": [
    "\"\"\"\n",
    "题目3：矩阵运算\n",
    "给定矩阵 A=[[1，2]，[3，4]] 和 B=[[5，6]，[7，8]]。\n",
    "计算A+B和A＊B（逐元素乘法)\n",
    "计算A 和B的矩阵乘法 (点积）\n",
    "\"\"\""
   ],
   "id": "40e29e50248e6fe8"
  },
  {
   "metadata": {
    "ExecuteTime": {
     "end_time": "2025-08-12T08:57:38.894856Z",
     "start_time": "2025-08-12T08:57:38.890430Z"
    }
   },
   "cell_type": "code",
   "source": [
    "a = np.array([[1,2],[3,4]])\n",
    "b = np.array([[5,6],[7,8]])\n",
    "print(a+b)\n",
    "print(a*b)\n",
    "print(a @ b)"
   ],
   "id": "fe57b53315982a53",
   "outputs": [
    {
     "name": "stdout",
     "output_type": "stream",
     "text": [
      "[[ 6  8]\n",
      " [10 12]]\n",
      "[[ 5 12]\n",
      " [21 32]]\n",
      "[[19 22]\n",
      " [43 50]]\n"
     ]
    }
   ],
   "execution_count": 100
  },
  {
   "metadata": {},
   "cell_type": "code",
   "source": [
    "\"\"\"\n",
    "题目4：随机数据生成\n",
    "生成一个（3，4)的随机整数数组，范围[0, 10).\n",
    "计算每列的最大值和每行的最小值。\n",
    "将数组中的所有奇数替换为-1。\n",
    "\"\"\""
   ],
   "id": "3e69d886097586c6",
   "outputs": [],
   "execution_count": null
  },
  {
   "metadata": {
    "ExecuteTime": {
     "end_time": "2025-08-12T09:25:38.587175Z",
     "start_time": "2025-08-12T09:25:38.582673Z"
    }
   },
   "cell_type": "code",
   "source": [
    "np.random.seed(0)\n",
    "arr = np.random.randint(0,10,(3,4))\n",
    "print(arr)\n",
    "print(np.max(arr,axis=0)) #axis=0列，axis=1行\n",
    "print(np.min(arr,axis=1))\n",
    "print(np.where(arr%2==1,-1,arr))"
   ],
   "id": "90bd3c33c1ba72fe",
   "outputs": [
    {
     "name": "stdout",
     "output_type": "stream",
     "text": [
      "[[5 0 3 3]\n",
      " [7 9 3 5]\n",
      " [2 4 7 6]]\n",
      "[7 9 7 6]\n",
      "[0 3 2]\n",
      "[[-1  0 -1 -1]\n",
      " [-1 -1 -1 -1]\n",
      " [ 2  4 -1  6]]\n"
     ]
    }
   ],
   "execution_count": 111
  },
  {
   "metadata": {},
   "cell_type": "code",
   "outputs": [],
   "execution_count": null,
   "source": [
    "\"\"\"\n",
    "题目5：数组变形\n",
    "创建一个1到12的一维数组，并转换为（3，4）的二维数组。\n",
    "计算每行的和与每列的平均值。\n",
    "将数组展平为一维数组\n",
    "\"\"\""
   ],
   "id": "fe90a67dd8cb1ed8"
  },
  {
   "metadata": {
    "ExecuteTime": {
     "end_time": "2025-08-12T09:50:26.332550Z",
     "start_time": "2025-08-12T09:50:26.328645Z"
    }
   },
   "cell_type": "code",
   "source": [
    "arr = np.arange(1,13)\n",
    "print(arr)\n",
    "print(arr.reshape(3,4))\n",
    "print(np.sum(arr.reshape(3,4),axis=1))\n",
    "print(np.mean(arr.reshape(3,4),axis=0))\n",
    "print(arr.reshape(-1)) #-1表示自动计算维度"
   ],
   "id": "ab3c9d60767cb812",
   "outputs": [
    {
     "name": "stdout",
     "output_type": "stream",
     "text": [
      "[ 1  2  3  4  5  6  7  8  9 10 11 12]\n",
      "[[ 1  2  3  4]\n",
      " [ 5  6  7  8]\n",
      " [ 9 10 11 12]]\n",
      "[10 26 42]\n",
      "[5. 6. 7. 8.]\n",
      "[ 1  2  3  4  5  6  7  8  9 10 11 12]\n"
     ]
    }
   ],
   "execution_count": 138
  },
  {
   "metadata": {},
   "cell_type": "code",
   "outputs": [],
   "execution_count": null,
   "source": [
    "\"\"\"\n",
    "生成一个（5，5)的随机数组，范围[0，20)。\n",
    "找出数组中大于10的元素。\n",
    "将所有大于10的元素替换为0\n",
    "\"\"\""
   ],
   "id": "ef3b09d154fe7a90"
  },
  {
   "metadata": {
    "ExecuteTime": {
     "end_time": "2025-08-12T09:52:33.003174Z",
     "start_time": "2025-08-12T09:52:32.999931Z"
    }
   },
   "cell_type": "code",
   "source": [
    "np.random.seed(0)\n",
    "arr = np.random.randint(0,20,(5,5))\n",
    "print(arr)\n",
    "print(arr[arr>10])\n",
    "print(np.where(arr>10,0,arr))"
   ],
   "id": "ec51055999904e83",
   "outputs": [
    {
     "name": "stdout",
     "output_type": "stream",
     "text": [
      "[[12 15  0  3  3]\n",
      " [ 7  9 19 18  4]\n",
      " [ 6 12  1  6  7]\n",
      " [14 17  5 13  8]\n",
      " [ 9 19 16 19  5]]\n",
      "[12 15 19 18 12 14 17 13 19 16 19]\n",
      "[[0 0 0 3 3]\n",
      " [7 9 0 0 4]\n",
      " [6 0 1 6 7]\n",
      " [0 0 5 0 8]\n",
      " [9 0 0 0 5]]\n"
     ]
    }
   ],
   "execution_count": 141
  },
  {
   "metadata": {},
   "cell_type": "code",
   "outputs": [],
   "execution_count": null,
   "source": [
    "\"\"\"\n",
    "题目7：统计函数应用\n",
    "某公司6个月的销售额（万元）为［120，135，110，125，130，140］。\n",
    "计算销售额的总和、均值和方差。\n",
    "找出销售额最高的月份和最低的月份。\n",
    "\"\"\""
   ],
   "id": "e492e802c9d8ff6"
  },
  {
   "metadata": {
    "ExecuteTime": {
     "end_time": "2025-08-12T09:56:30.951391Z",
     "start_time": "2025-08-12T09:56:30.944788Z"
    }
   },
   "cell_type": "code",
   "source": [
    "arr = np.array([120,135,110,125,130,140])\n",
    "print(np.sum(arr))\n",
    "print(np.mean(arr))\n",
    "print(np.var(arr))\n",
    "print(np.argmax(arr) + 1)\n",
    "print(np.argmin(arr) + 1)"
   ],
   "id": "7295bba87c5da3c",
   "outputs": [
    {
     "name": "stdout",
     "output_type": "stream",
     "text": [
      "760\n",
      "126.66666666666667\n",
      "97.22222222222223\n",
      "6\n",
      "3\n"
     ]
    }
   ],
   "execution_count": 143
  },
  {
   "metadata": {},
   "cell_type": "code",
   "outputs": [],
   "execution_count": null,
   "source": [
    "\"\"\"\n",
    "题目8：数组拼接\n",
    "给定A=[1， 2， 3] 和 B =[4， 5， 6]。\n",
    "将将A和B水平拼接为一个新数组。\n",
    "将A和B垂直拼接为一个新数组。\n",
    "\"\"\""
   ],
   "id": "401d022a41136d68"
  },
  {
   "metadata": {
    "ExecuteTime": {
     "end_time": "2025-08-12T10:00:11.959424Z",
     "start_time": "2025-08-12T10:00:11.956229Z"
    }
   },
   "cell_type": "code",
   "source": [
    "a = np.array([1,2,3])\n",
    "b = np.array([4,5,6])\n",
    "print(np.concatenate([a,b]))\n",
    "print(np.reshape(np.concatenate([a,b]),(2,3)))"
   ],
   "id": "237a2bebe32048e2",
   "outputs": [
    {
     "name": "stdout",
     "output_type": "stream",
     "text": [
      "[1 2 3 4 5 6]\n",
      "[[1 2 3]\n",
      " [4 5 6]]\n"
     ]
    }
   ],
   "execution_count": 146
  },
  {
   "metadata": {},
   "cell_type": "code",
   "outputs": [],
   "execution_count": null,
   "source": [
    "\"\"\"\n",
    "题目9：唯一值与排序\n",
    "给定数组[2， 1， 2, 3, 1， 4, 3]。\n",
    "找出数组中的唯一值并排序，\n",
    "计算每个唯一值出现的次数\n",
    "\"\"\""
   ],
   "id": "6513f7fded52bcf0"
  },
  {
   "metadata": {
    "ExecuteTime": {
     "end_time": "2025-08-12T10:04:23.784696Z",
     "start_time": "2025-08-12T10:04:23.779381Z"
    }
   },
   "cell_type": "code",
   "source": [
    "arr = np.array([2, 1, 2, 3, 1, 4, 3])\n",
    "print(np.unique(arr))\n",
    "u_arr,counts = np.unique(arr,return_counts=True)\n",
    "print(u_arr,counts)"
   ],
   "id": "fabb0a4ce318bab6",
   "outputs": [
    {
     "name": "stdout",
     "output_type": "stream",
     "text": [
      "[1 2 3 4]\n",
      "[1 2 3 4] [2 2 2 1]\n"
     ]
    }
   ],
   "execution_count": 149
  },
  {
   "metadata": {},
   "cell_type": "code",
   "outputs": [],
   "execution_count": null,
   "source": [
    "\"\"\"\n",
    "题目20：综合应用\n",
    "某商店5天的销售额(万元)和成本(万元)如下:\n",
    "销售额：[20，25，22，30，28]\n",
    "成本：[15，18，16，22，20]\n",
    "计算每天的利润(销售额 － 成本)\n",
    "计算利润的平均值和标准差。\n",
    "找出利润最高的天数，\n",
    "\"\"\""
   ],
   "id": "91e0102b9fa8f23c"
  },
  {
   "metadata": {
    "ExecuteTime": {
     "end_time": "2025-08-12T10:13:00.539524Z",
     "start_time": "2025-08-12T10:13:00.535893Z"
    }
   },
   "cell_type": "code",
   "source": [
    "a = np.array([20,25,22,30,28])\n",
    "b = np.array([15,18,16,22,20])\n",
    "print(a-b)\n",
    "print(np.mean(a-b))\n",
    "print(np.std(a-b))\n",
    "print(len((a-b)[(a-b) == np.max(a-b)]))"
   ],
   "id": "d0e6775e1b33d948",
   "outputs": [
    {
     "name": "stdout",
     "output_type": "stream",
     "text": [
      "[5 7 6 8 8]\n",
      "6.8\n",
      "1.16619037896906\n",
      "2\n"
     ]
    }
   ],
   "execution_count": 157
  }
 ],
 "metadata": {
  "kernelspec": {
   "display_name": "Python 3",
   "language": "python",
   "name": "python3"
  },
  "language_info": {
   "codemirror_mode": {
    "name": "ipython",
    "version": 2
   },
   "file_extension": ".py",
   "mimetype": "text/x-python",
   "name": "python",
   "nbconvert_exporter": "python",
   "pygments_lexer": "ipython2",
   "version": "2.7.6"
  }
 },
 "nbformat": 4,
 "nbformat_minor": 5
}
