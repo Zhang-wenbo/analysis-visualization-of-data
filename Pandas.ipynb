{
 "cells": [
  {
   "metadata": {},
   "cell_type": "code",
   "outputs": [],
   "execution_count": null,
   "source": [
    "\"\"\"\n",
    "/****************************************************************\n",
    "                   _ooOoo_\n",
    "                  o8888888o\n",
    "                  88\" . \"88\n",
    "                  (| -_- |)\n",
    "                  O\\  =  /O\n",
    "               ____/`---'\\____\n",
    "             .'  \\\\|     |//  `.\n",
    "            /  \\\\|||  :  |||//  \\\n",
    "           /  _||||| -:- |||||-  \\\n",
    "           |   | \\\\\\  -  /// |   |\n",
    "           | \\_|  ''\\---/''  |   |\n",
    "           \\  .-\\__  `-`  ___/-. /\n",
    "         ___`. .'  /--.--\\  `. . __\n",
    "      .\"\" '<  `.___\\_<|>_/___.'  >'\"\".\n",
    "     | | :  `- \\`.;`\\ _ /`;.`/ - ` : | |\n",
    "     \\  \\ `-.   \\_ __\\ /__ _/   .-` /  /\n",
    "======`-.____`-.___\\_____/___.-`____.-'======\n",
    "                   `=---='\n",
    "^^^^^^^^^^^^^^^^^^^^^^^^^^^^^^^^^^^^^^^^^^^^^\n",
    "         佛祖保佑   永无BUG     永不死机\n",
    "********************************************************************\n",
    "\"\"\""
   ],
   "id": "3b70f266ff79cb36"
  },
  {
   "metadata": {},
   "cell_type": "markdown",
   "source": [
    "## 一.series\n",
    "### 1.series的创建"
   ],
   "id": "f1c40d9939ba15cc"
  },
  {
   "metadata": {
    "ExecuteTime": {
     "end_time": "2025-08-15T09:35:27.405267Z",
     "start_time": "2025-08-15T09:35:26.920839Z"
    }
   },
   "cell_type": "code",
   "source": [
    "import pandas as pd\n",
    "s = pd.Series([1,2,3,4,5])\n",
    "print(s)"
   ],
   "id": "203b75f63035a722",
   "outputs": [
    {
     "name": "stdout",
     "output_type": "stream",
     "text": [
      "0    1\n",
      "1    2\n",
      "2    3\n",
      "3    4\n",
      "4    5\n",
      "dtype: int64\n"
     ]
    }
   ],
   "execution_count": 2
  },
  {
   "metadata": {
    "ExecuteTime": {
     "end_time": "2025-08-13T23:11:07.249819Z",
     "start_time": "2025-08-13T23:11:07.245395Z"
    }
   },
   "cell_type": "code",
   "source": [
    "# 自定义索引\n",
    "s = pd.Series([1,2,3,4,5],index=['A','B','C','D','E'])\n",
    "print(s)\n",
    "# 定义name(标签)\n",
    "s = pd.Series([1,2,3,4,5],index=['A','B','C','D','E'],name='num')\n",
    "print(s)"
   ],
   "id": "ba8e9f496368e520",
   "outputs": [
    {
     "name": "stdout",
     "output_type": "stream",
     "text": [
      "A    1\n",
      "B    2\n",
      "C    3\n",
      "D    4\n",
      "E    5\n",
      "dtype: int64\n",
      "A    1\n",
      "B    2\n",
      "C    3\n",
      "D    4\n",
      "E    5\n",
      "Name: num, dtype: int64\n"
     ]
    }
   ],
   "execution_count": 5
  },
  {
   "metadata": {
    "ExecuteTime": {
     "end_time": "2025-08-13T23:42:43.465962Z",
     "start_time": "2025-08-13T23:42:43.459236Z"
    }
   },
   "cell_type": "code",
   "source": [
    "# 字典创建series\n",
    "s = pd.Series({'A':1,'B':2,'C':3,'D':4,'E':5})\n",
    "print(s)\n",
    "s1 = pd.Series(s,index=['A','C'])\n",
    "print(s1)"
   ],
   "id": "c973b09b921c30b0",
   "outputs": [
    {
     "name": "stdout",
     "output_type": "stream",
     "text": [
      "A    1\n",
      "B    2\n",
      "C    3\n",
      "D    4\n",
      "E    5\n",
      "dtype: int64\n",
      "A    1\n",
      "C    3\n",
      "dtype: int64\n"
     ]
    }
   ],
   "execution_count": 12
  },
  {
   "metadata": {},
   "cell_type": "markdown",
   "source": "### 2.series的属性",
   "id": "f86c27347645de70"
  },
  {
   "metadata": {
    "ExecuteTime": {
     "end_time": "2025-08-13T23:55:13.493893Z",
     "start_time": "2025-08-13T23:55:13.489646Z"
    }
   },
   "cell_type": "code",
   "source": [
    "s = pd.Series({'A':1,'B':2,'C':3,'D':4,'E':5})\n",
    "print(s.index) # 索引\n",
    "print(s.values) # 值\n",
    "print(s.size) # 大小\n",
    "print(s.dtype) # 数据类型\n",
    "print(s.name) # 名称\n",
    "print(s.shape) # 形状\n",
    "print(s.ndim) # 维度\n",
    "print(s.loc['A']) #显式索引 - 支持切片\n",
    "print(s.iloc[0]) # 隐式索引\n",
    "print(s.at['A']) # 快速访问 - 不支持切片\n",
    "print(s.iat[0]) # 快速访问 - 不支持切片"
   ],
   "id": "2ffe3ee07fc250ac",
   "outputs": [
    {
     "name": "stdout",
     "output_type": "stream",
     "text": [
      "Index(['A', 'B', 'C', 'D', 'E'], dtype='object')\n",
      "[1 2 3 4 5]\n",
      "5\n",
      "int64\n",
      "None\n",
      "(5,)\n",
      "1\n",
      "1\n",
      "1\n",
      "1\n",
      "1\n"
     ]
    }
   ],
   "execution_count": 22
  },
  {
   "metadata": {},
   "cell_type": "markdown",
   "source": "### 3.series的访问",
   "id": "2dccade3ab5e3968"
  },
  {
   "metadata": {
    "ExecuteTime": {
     "end_time": "2025-08-14T00:01:32.054147Z",
     "start_time": "2025-08-14T00:01:32.049625Z"
    }
   },
   "cell_type": "code",
   "source": [
    "s = pd.Series({'A':1,'B':2,'C':3,'D':4,'E':5,'F':6})\n",
    "# print(s[1]) # 会有警告信息，计算机不理解1是标签还是位置\n",
    "print(s['A']) # 标签索引\n",
    "print(s[s<3]) # 布尔索引\n",
    "print(s.head()) # 打印前五行\n",
    "print(s.tail()) # 打印后五行"
   ],
   "id": "56c3770690746d56",
   "outputs": [
    {
     "name": "stdout",
     "output_type": "stream",
     "text": [
      "1\n",
      "A    1\n",
      "B    2\n",
      "dtype: int64\n",
      "A    1\n",
      "B    2\n",
      "C    3\n",
      "D    4\n",
      "E    5\n",
      "dtype: int64\n",
      "B    2\n",
      "C    3\n",
      "D    4\n",
      "E    5\n",
      "F    6\n",
      "dtype: int64\n"
     ]
    }
   ],
   "execution_count": 29
  },
  {
   "metadata": {},
   "cell_type": "markdown",
   "source": "### 4.series常见函数/方法",
   "id": "1613f35d71711269"
  },
  {
   "metadata": {
    "ExecuteTime": {
     "end_time": "2025-08-15T03:00:50.108198Z",
     "start_time": "2025-08-15T03:00:50.097303Z"
    }
   },
   "cell_type": "code",
   "source": [
    "import numpy as np\n",
    "s = pd.Series([10,2,np.nan,None,3,4,5],index=['A','B','C','D','E','F','G'])\n",
    "print(s)"
   ],
   "id": "aa70dc5eb046a0c2",
   "outputs": [
    {
     "name": "stdout",
     "output_type": "stream",
     "text": [
      "A    10.0\n",
      "B     2.0\n",
      "C     NaN\n",
      "D     NaN\n",
      "E     3.0\n",
      "F     4.0\n",
      "G     5.0\n",
      "dtype: float64\n"
     ]
    }
   ],
   "execution_count": 3
  },
  {
   "metadata": {
    "ExecuteTime": {
     "end_time": "2025-08-15T03:03:05.478224Z",
     "start_time": "2025-08-15T03:03:05.473306Z"
    }
   },
   "cell_type": "code",
   "source": [
    "s.head() # 打印前五行，里面填数字则指定行数\n",
    "s.tail() # 打印后五行"
   ],
   "id": "225ec0580117a918",
   "outputs": [
    {
     "data": {
      "text/plain": [
       "C    NaN\n",
       "D    NaN\n",
       "E    3.0\n",
       "F    4.0\n",
       "G    5.0\n",
       "dtype: float64"
      ]
     },
     "execution_count": 5,
     "metadata": {},
     "output_type": "execute_result"
    }
   ],
   "execution_count": 5
  },
  {
   "metadata": {
    "ExecuteTime": {
     "end_time": "2025-08-15T03:04:32.458614Z",
     "start_time": "2025-08-15T03:04:32.446427Z"
    }
   },
   "cell_type": "code",
   "source": [
    "# 查看所有的描述性信息\n",
    "s.describe()"
   ],
   "id": "358e3b339e549be3",
   "outputs": [
    {
     "data": {
      "text/plain": [
       "count     5.000000\n",
       "mean      4.800000\n",
       "std       3.114482\n",
       "min       2.000000\n",
       "25%       3.000000\n",
       "50%       4.000000\n",
       "75%       5.000000\n",
       "max      10.000000\n",
       "dtype: float64"
      ]
     },
     "execution_count": 6,
     "metadata": {},
     "output_type": "execute_result"
    }
   ],
   "execution_count": 6
  },
  {
   "metadata": {
    "ExecuteTime": {
     "end_time": "2025-08-15T03:07:01.301197Z",
     "start_time": "2025-08-15T03:07:01.297520Z"
    }
   },
   "cell_type": "code",
   "source": [
    "s.count() # 计算非NaN的个数\n",
    "print(s.count())"
   ],
   "id": "105a204adffe88cc",
   "outputs": [
    {
     "name": "stdout",
     "output_type": "stream",
     "text": [
      "5\n"
     ]
    }
   ],
   "execution_count": 9
  },
  {
   "metadata": {
    "ExecuteTime": {
     "end_time": "2025-08-15T03:08:31.875649Z",
     "start_time": "2025-08-15T03:08:31.872598Z"
    }
   },
   "cell_type": "code",
   "source": [
    "print(s.keys()) #方法\n",
    "print(s.index) #属性"
   ],
   "id": "73258904a4d77851",
   "outputs": [
    {
     "name": "stdout",
     "output_type": "stream",
     "text": [
      "Index(['A', 'B', 'C', 'D', 'E', 'F', 'G'], dtype='object')\n",
      "Index(['A', 'B', 'C', 'D', 'E', 'F', 'G'], dtype='object')\n"
     ]
    }
   ],
   "execution_count": 12
  },
  {
   "metadata": {
    "ExecuteTime": {
     "end_time": "2025-08-15T03:32:46.575240Z",
     "start_time": "2025-08-15T03:32:46.570782Z"
    }
   },
   "cell_type": "code",
   "source": [
    "print(s.isna())\n",
    "s.isna()"
   ],
   "id": "1cf0b9173996eec0",
   "outputs": [
    {
     "name": "stdout",
     "output_type": "stream",
     "text": [
      "A    False\n",
      "B    False\n",
      "C     True\n",
      "D     True\n",
      "E    False\n",
      "F    False\n",
      "G    False\n",
      "dtype: bool\n"
     ]
    },
    {
     "data": {
      "text/plain": [
       "A    False\n",
       "B    False\n",
       "C     True\n",
       "D     True\n",
       "E    False\n",
       "F    False\n",
       "G    False\n",
       "dtype: bool"
      ]
     },
     "execution_count": 15,
     "metadata": {},
     "output_type": "execute_result"
    }
   ],
   "execution_count": 15
  },
  {
   "metadata": {
    "ExecuteTime": {
     "end_time": "2025-08-15T03:34:47.353943Z",
     "start_time": "2025-08-15T03:34:47.350017Z"
    }
   },
   "cell_type": "code",
   "source": "s.isin([10,2,6])",
   "id": "dd8bd86a910288c1",
   "outputs": [
    {
     "data": {
      "text/plain": [
       "A     True\n",
       "B     True\n",
       "C    False\n",
       "D    False\n",
       "E    False\n",
       "F    False\n",
       "G    False\n",
       "dtype: bool"
      ]
     },
     "execution_count": 19,
     "metadata": {},
     "output_type": "execute_result"
    }
   ],
   "execution_count": 19
  },
  {
   "metadata": {
    "ExecuteTime": {
     "end_time": "2025-08-15T03:38:30.192309Z",
     "start_time": "2025-08-15T03:38:30.188362Z"
    }
   },
   "cell_type": "code",
   "source": [
    "print(s.mean())\n",
    "print(s.std()) #标准差\n",
    "print(s.var()) #方差\n",
    "print(s.sum()) #求和\n",
    "print(s.min()) #最小值\n",
    "print(s.max()) #最大值\n",
    "print(s.median()) #中位数"
   ],
   "id": "e2a8ab74331e6c26",
   "outputs": [
    {
     "name": "stdout",
     "output_type": "stream",
     "text": [
      "4.8\n",
      "3.1144823004794877\n",
      "9.700000000000001\n",
      "24.0\n",
      "2.0\n",
      "10.0\n",
      "4.0\n"
     ]
    }
   ],
   "execution_count": 24
  },
  {
   "metadata": {
    "ExecuteTime": {
     "end_time": "2025-08-15T03:41:00.699757Z",
     "start_time": "2025-08-15T03:41:00.686372Z"
    }
   },
   "cell_type": "code",
   "source": "s.sort_values() #按值升序排序",
   "id": "2db533c056920d93",
   "outputs": [
    {
     "data": {
      "text/plain": [
       "B     2.0\n",
       "E     3.0\n",
       "F     4.0\n",
       "G     5.0\n",
       "A    10.0\n",
       "C     NaN\n",
       "D     NaN\n",
       "dtype: float64"
      ]
     },
     "execution_count": 25,
     "metadata": {},
     "output_type": "execute_result"
    }
   ],
   "execution_count": 25
  },
  {
   "metadata": {
    "ExecuteTime": {
     "end_time": "2025-08-15T03:52:22.268955Z",
     "start_time": "2025-08-15T03:52:22.264910Z"
    }
   },
   "cell_type": "code",
   "source": [
    "print(s.quantile(0.8)) #获取百分之25分位数\n",
    "#--------------#\n",
    "#2  3  4  5  10\n",
    "#间隔为4份,4*0.8=3.2\n",
    "#第3个间隔往后查0.2\n",
    "#0.2*(10-5)=1\n",
    "#5+1=6"
   ],
   "id": "13132184caeaeaa0",
   "outputs": [
    {
     "name": "stdout",
     "output_type": "stream",
     "text": [
      "6.000000000000001\n"
     ]
    }
   ],
   "execution_count": 27
  },
  {
   "metadata": {
    "ExecuteTime": {
     "end_time": "2025-08-15T04:04:14.955596Z",
     "start_time": "2025-08-15T04:04:14.951684Z"
    }
   },
   "cell_type": "code",
   "source": [
    "# 众数\n",
    "s = pd.Series([1,2,3,4,1,1])\n",
    "print(s.mode())"
   ],
   "id": "f7fad510953d90eb",
   "outputs": [
    {
     "name": "stdout",
     "output_type": "stream",
     "text": [
      "0    1\n",
      "dtype: int64\n"
     ]
    }
   ],
   "execution_count": 30
  },
  {
   "metadata": {
    "ExecuteTime": {
     "end_time": "2025-08-15T04:07:07.578728Z",
     "start_time": "2025-08-15T04:07:07.574759Z"
    }
   },
   "cell_type": "code",
   "source": "print(s.value_counts()) #统计个数：值；个数【同时会按频率排序】",
   "id": "c24b17d427a3584a",
   "outputs": [
    {
     "name": "stdout",
     "output_type": "stream",
     "text": [
      "1    3\n",
      "2    1\n",
      "3    1\n",
      "4    1\n",
      "Name: count, dtype: int64\n"
     ]
    }
   ],
   "execution_count": 32
  },
  {
   "metadata": {
    "ExecuteTime": {
     "end_time": "2025-08-15T08:41:28.038599Z",
     "start_time": "2025-08-15T08:41:28.035177Z"
    }
   },
   "cell_type": "code",
   "source": [
    "s.drop_duplicates() #去重\n",
    "s.unique() #去重\n",
    "print(s.nunique()) #去重后的个数"
   ],
   "id": "732f0a512bb57e03",
   "outputs": [
    {
     "name": "stdout",
     "output_type": "stream",
     "text": [
      "4\n"
     ]
    }
   ],
   "execution_count": 35
  },
  {
   "metadata": {
    "ExecuteTime": {
     "end_time": "2025-08-15T08:42:57.069889Z",
     "start_time": "2025-08-15T08:42:57.060193Z"
    }
   },
   "cell_type": "code",
   "source": [
    "# 排序\n",
    "print(s.sort_index()) #按索引排序\n",
    "print(s.sort_values()) #按值排序"
   ],
   "id": "cbc3879a3138b23c",
   "outputs": [
    {
     "name": "stdout",
     "output_type": "stream",
     "text": [
      "0    1\n",
      "1    2\n",
      "2    3\n",
      "3    4\n",
      "4    1\n",
      "5    1\n",
      "dtype: int64\n",
      "0    1\n",
      "4    1\n",
      "5    1\n",
      "1    2\n",
      "2    3\n",
      "3    4\n",
      "dtype: int64\n"
     ]
    }
   ],
   "execution_count": 36
  },
  {
   "metadata": {},
   "cell_type": "markdown",
   "source": [
    "### 5.案例\n",
    "#### 案例1：学生成绩统计\n",
    "创建一个包含10名学生数学成绩的Series，成绩范围在50-100之间。\n",
    "计算平均分、最高分、最低分，并找出高于平均分的学生人数。"
   ],
   "id": "53b4ebef6ee0075a"
  },
  {
   "metadata": {
    "ExecuteTime": {
     "end_time": "2025-08-15T08:55:53.363598Z",
     "start_time": "2025-08-15T08:55:53.359639Z"
    }
   },
   "cell_type": "code",
   "source": [
    "# 生成随机成绩\n",
    "np.random.seed(42)\n",
    "scores = pd.Series(np.random.randint(50, 101, 10),index=['学生'+str(i) for i in range(1,11)])\n",
    "#print(scores)\n",
    "print(\"平均分为:\"+str(scores.mean()))\n",
    "print(\"最高分为:\"+str(scores.max()))\n",
    "print(\"最低分为:\"+str(scores.min()))\n",
    "print(\"高于平均分的学生人数为:\"+str(len(scores[scores>scores.mean()])))"
   ],
   "id": "1c7dc63159b4f0f3",
   "outputs": [
    {
     "name": "stdout",
     "output_type": "stream",
     "text": [
      "平均分为:73.7\n",
      "最高分为:92\n",
      "最低分为:57\n",
      "高于平均分的学生人数为:4\n"
     ]
    }
   ],
   "execution_count": 43
  },
  {
   "metadata": {},
   "cell_type": "markdown",
   "source": [
    "#### 案例2：温度数据分析\n",
    "给定某城市一周每天的最高温度Series，完成以下任务：\\\n",
    "(1)找出温度超过30度的天数\\\n",
    "(2)计算平均温度\\\n",
    "(3)将温度从高到低排序\\\n",
    "(4)找出温度变化最大的两天"
   ],
   "id": "c0c5d9b9eb5b8d3c"
  },
  {
   "metadata": {
    "ExecuteTime": {
     "end_time": "2025-08-15T09:40:26.892636Z",
     "start_time": "2025-08-15T09:40:26.887889Z"
    }
   },
   "cell_type": "code",
   "source": [
    "temperatures = pd.Series([28, 31, 29, 32, 30, 27, 33], index=['周一', '周二', '周三', '周四', '周五', '周六', '周日'])\n",
    "print(\"温度超过30度的天数为：\"+str(len(temperatures[temperatures>30])))\n",
    "print(\"平均温度为：\"+str(temperatures.mean()))\n",
    "print(temperatures.sort_values(ascending=False))\n",
    "print(temperatures.diff().abs().sort_values(ascending=False).keys()[:2].tolist()) #后一个 - 前一个\n"
   ],
   "id": "9b9c755cfec64841",
   "outputs": [
    {
     "name": "stdout",
     "output_type": "stream",
     "text": [
      "温度超过30度的天数为：3\n",
      "平均温度为：30.0\n",
      "周日    33\n",
      "周四    32\n",
      "周二    31\n",
      "周五    30\n",
      "周三    29\n",
      "周一    28\n",
      "周六    27\n",
      "dtype: int64\n",
      "['周日', '周二']\n"
     ]
    }
   ],
   "execution_count": 12
  },
  {
   "metadata": {},
   "cell_type": "markdown",
   "source": [
    "#### 案例3：股票价格分析\n",
    "给定某股票连续10个交易日的收盘价Series：\\\n",
    "计算每日收益率（当日收盘价/前日收盘价-1）\\\n",
    "找出收益率最高和最低的日期\\\n",
    "计算波动率（收益率的标准差）"
   ],
   "id": "87d823879b3e40cf"
  },
  {
   "metadata": {
    "ExecuteTime": {
     "end_time": "2025-08-15T09:57:49.862490Z",
     "start_time": "2025-08-15T09:57:49.853322Z"
    }
   },
   "cell_type": "code",
   "source": [
    "import numpy as np\n",
    "prices = pd.Series([102.3,103.5,105.1, 104.8,106.2,107.0,106.5,108.1, 109.3, 110.2], index=pd.date_range('2025-08-15', periods=10))\n",
    "print(prices)\n",
    "a = prices.pct_change() #(103.5 / 102.3) -1\n",
    "print(a)\n",
    "print(\"收益率最高和最低的日期：\"+str(a.idxmax())+\"和\"+str(a.idxmin()))\n",
    "print(\"波动率：\"+str(a.std()))"
   ],
   "id": "4bfe7971697614f6",
   "outputs": [
    {
     "name": "stdout",
     "output_type": "stream",
     "text": [
      "2025-08-15    102.3\n",
      "2025-08-16    103.5\n",
      "2025-08-17    105.1\n",
      "2025-08-18    104.8\n",
      "2025-08-19    106.2\n",
      "2025-08-20    107.0\n",
      "2025-08-21    106.5\n",
      "2025-08-22    108.1\n",
      "2025-08-23    109.3\n",
      "2025-08-24    110.2\n",
      "Freq: D, dtype: float64\n",
      "2025-08-15         NaN\n",
      "2025-08-16    0.011730\n",
      "2025-08-17    0.015459\n",
      "2025-08-18   -0.002854\n",
      "2025-08-19    0.013359\n",
      "2025-08-20    0.007533\n",
      "2025-08-21   -0.004673\n",
      "2025-08-22    0.015023\n",
      "2025-08-23    0.011101\n",
      "2025-08-24    0.008234\n",
      "Freq: D, dtype: float64\n",
      "收益率最高和最低的日期：2025-08-17 00:00:00和2025-08-21 00:00:00\n",
      "波动率：0.007373623845361105\n"
     ]
    }
   ],
   "execution_count": 24
  },
  {
   "metadata": {},
   "cell_type": "markdown",
   "source": [
    "#### 案例4：销售数据分析\n",
    "某产品过去12个月的销售量Series:\n",
    "计算季度平均销量（每3个月为一个季度）\\\n",
    "找出销量最高的月份\\\n",
    "计算月环比增长率【同比：与前年的相同月相比；环比：与上一个月相比】\\\n",
    "找出连续增长超过2个月的月份"
   ],
   "id": "3efbfe470a7ef35b"
  },
  {
   "metadata": {
    "ExecuteTime": {
     "end_time": "2025-08-15T10:27:27.261483Z",
     "start_time": "2025-08-15T10:27:27.254115Z"
    }
   },
   "cell_type": "code",
   "source": [
    "sales = pd.Series([120, 135, 145, 160, 155, 170, 180, 175, 190, 200, 210,220],index=pd.date_range('2025-01-01', periods=12, freq='MS'))\n",
    "#sales\n",
    "sales.resample('QS').mean() #重新采样\n",
    "print(\"销量最高的月份：\"+str(sales.idxmax()))\n",
    "print(sales.pct_change().dropna())\n",
    "a = sales.pct_change()\n",
    "b = a>0\n",
    "b[b.rolling(3).sum()==3].keys().tolist() #滑动窗口"
   ],
   "id": "6123eab3810bc926",
   "outputs": [
    {
     "name": "stdout",
     "output_type": "stream",
     "text": [
      "销量最高的月份：2025-12-01 00:00:00\n",
      "2025-02-01    0.125000\n",
      "2025-03-01    0.074074\n",
      "2025-04-01    0.103448\n",
      "2025-05-01   -0.031250\n",
      "2025-06-01    0.096774\n",
      "2025-07-01    0.058824\n",
      "2025-08-01   -0.027778\n",
      "2025-09-01    0.085714\n",
      "2025-10-01    0.052632\n",
      "2025-11-01    0.050000\n",
      "2025-12-01    0.047619\n",
      "Freq: MS, dtype: float64\n"
     ]
    },
    {
     "data": {
      "text/plain": [
       "[Timestamp('2025-04-01 00:00:00'),\n",
       " Timestamp('2025-11-01 00:00:00'),\n",
       " Timestamp('2025-12-01 00:00:00')]"
      ]
     },
     "execution_count": 37,
     "metadata": {},
     "output_type": "execute_result"
    }
   ],
   "execution_count": 37
  },
  {
   "metadata": {},
   "cell_type": "markdown",
   "source": [
    "#### 案例5：每小时销售数据分析\n",
    "某商店每小时销售额Series：\\\n",
    "按天重采样计算每日总销售额\\\n",
    "计算每天营业时间（8:00-22:00）和非营业时间的销售额比例\\\n",
    "找出销售额最高的3个小时"
   ],
   "id": "f5517ce78465ee60"
  },
  {
   "metadata": {
    "ExecuteTime": {
     "end_time": "2025-08-15T10:55:34.941343Z",
     "start_time": "2025-08-15T10:55:34.935609Z"
    }
   },
   "cell_type": "code",
   "source": [
    "np.random.seed(42)\n",
    "hourly_sales = pd.Series(np.random.randint(0, 100, 24),index=pd.date_range('2025-01-01', periods=24, freq='h'))\n",
    "#hourly_sales\n",
    "day_sales = hourly_sales.resample('D').sum() #按天重采样\n",
    "work_time = sum(hourly_sales.between_time('08:00', '22:00'))\n",
    "unwork_time = day_sales.values - work_time\n",
    "print(work_time,*unwork_time)\n",
    "print(\"每天营业时间和非营业时间的销售额比例：\"+str(work_time/unwork_time))\n",
    "print(\"销售额最高的3个小时：\\n\"+str(hourly_sales.nlargest(3)))"
   ],
   "id": "2b557829cb1b79eb",
   "outputs": [
    {
     "name": "stdout",
     "output_type": "stream",
     "text": [
      "709 496\n",
      "每天营业时间和非营业时间的销售额比例：[1.42943548]\n",
      "销售额最高的3个小时：\n",
      "2025-01-01 11:00:00    99\n",
      "2025-01-01 01:00:00    92\n",
      "2025-01-01 10:00:00    87\n",
      "dtype: int32\n"
     ]
    }
   ],
   "execution_count": 54
  },
  {
   "metadata": {},
   "cell_type": "markdown",
   "source": [
    "## 二.DataFrame\n",
    "### 1.DataFrame的创建"
   ],
   "id": "d39f6dd466117a60"
  },
  {
   "metadata": {
    "ExecuteTime": {
     "end_time": "2025-08-16T13:05:47.978767Z",
     "start_time": "2025-08-16T13:05:47.969259Z"
    }
   },
   "cell_type": "code",
   "source": [
    "import pandas as pd\n",
    "import numpy as np\n",
    "#利用Series创建DataFrame\n",
    "s1 = pd.Series([1,2,3,4,5])\n",
    "s2 = pd.Series([6,7,8,9,10])\n",
    "df = pd.DataFrame({'A':s1,'B':s2})\n",
    "df"
   ],
   "id": "c996d17ebc6ad193",
   "outputs": [
    {
     "data": {
      "text/plain": [
       "   A   B\n",
       "0  1   6\n",
       "1  2   7\n",
       "2  3   8\n",
       "3  4   9\n",
       "4  5  10"
      ],
      "text/html": [
       "<div>\n",
       "<style scoped>\n",
       "    .dataframe tbody tr th:only-of-type {\n",
       "        vertical-align: middle;\n",
       "    }\n",
       "\n",
       "    .dataframe tbody tr th {\n",
       "        vertical-align: top;\n",
       "    }\n",
       "\n",
       "    .dataframe thead th {\n",
       "        text-align: right;\n",
       "    }\n",
       "</style>\n",
       "<table border=\"1\" class=\"dataframe\">\n",
       "  <thead>\n",
       "    <tr style=\"text-align: right;\">\n",
       "      <th></th>\n",
       "      <th>A</th>\n",
       "      <th>B</th>\n",
       "    </tr>\n",
       "  </thead>\n",
       "  <tbody>\n",
       "    <tr>\n",
       "      <th>0</th>\n",
       "      <td>1</td>\n",
       "      <td>6</td>\n",
       "    </tr>\n",
       "    <tr>\n",
       "      <th>1</th>\n",
       "      <td>2</td>\n",
       "      <td>7</td>\n",
       "    </tr>\n",
       "    <tr>\n",
       "      <th>2</th>\n",
       "      <td>3</td>\n",
       "      <td>8</td>\n",
       "    </tr>\n",
       "    <tr>\n",
       "      <th>3</th>\n",
       "      <td>4</td>\n",
       "      <td>9</td>\n",
       "    </tr>\n",
       "    <tr>\n",
       "      <th>4</th>\n",
       "      <td>5</td>\n",
       "      <td>10</td>\n",
       "    </tr>\n",
       "  </tbody>\n",
       "</table>\n",
       "</div>"
      ]
     },
     "execution_count": 2,
     "metadata": {},
     "output_type": "execute_result"
    }
   ],
   "execution_count": 2
  },
  {
   "metadata": {
    "ExecuteTime": {
     "end_time": "2025-08-16T13:14:01.079505Z",
     "start_time": "2025-08-16T13:14:01.070486Z"
    }
   },
   "cell_type": "code",
   "source": [
    "#利用字典来创建\n",
    "df = pd.DataFrame({'ID':[1,2,3,4,5],\n",
    "                  'Name':['张三','李四','王五','赵六','小七'],\n",
    "                  'age':[18,19,20,21,22],\n",
    "                   'score':[80,12.5,90,100,85]},index=['a','b','c','d','e'],columns=['Name','ID','age','score'])\n",
    "df"
   ],
   "id": "8b2c5b2deed2c833",
   "outputs": [
    {
     "data": {
      "text/plain": [
       "  Name  ID  age  score\n",
       "a   张三   1   18   80.0\n",
       "b   李四   2   19   12.5\n",
       "c   王五   3   20   90.0\n",
       "d   赵六   4   21  100.0\n",
       "e   小七   5   22   85.0"
      ],
      "text/html": [
       "<div>\n",
       "<style scoped>\n",
       "    .dataframe tbody tr th:only-of-type {\n",
       "        vertical-align: middle;\n",
       "    }\n",
       "\n",
       "    .dataframe tbody tr th {\n",
       "        vertical-align: top;\n",
       "    }\n",
       "\n",
       "    .dataframe thead th {\n",
       "        text-align: right;\n",
       "    }\n",
       "</style>\n",
       "<table border=\"1\" class=\"dataframe\">\n",
       "  <thead>\n",
       "    <tr style=\"text-align: right;\">\n",
       "      <th></th>\n",
       "      <th>Name</th>\n",
       "      <th>ID</th>\n",
       "      <th>age</th>\n",
       "      <th>score</th>\n",
       "    </tr>\n",
       "  </thead>\n",
       "  <tbody>\n",
       "    <tr>\n",
       "      <th>a</th>\n",
       "      <td>张三</td>\n",
       "      <td>1</td>\n",
       "      <td>18</td>\n",
       "      <td>80.0</td>\n",
       "    </tr>\n",
       "    <tr>\n",
       "      <th>b</th>\n",
       "      <td>李四</td>\n",
       "      <td>2</td>\n",
       "      <td>19</td>\n",
       "      <td>12.5</td>\n",
       "    </tr>\n",
       "    <tr>\n",
       "      <th>c</th>\n",
       "      <td>王五</td>\n",
       "      <td>3</td>\n",
       "      <td>20</td>\n",
       "      <td>90.0</td>\n",
       "    </tr>\n",
       "    <tr>\n",
       "      <th>d</th>\n",
       "      <td>赵六</td>\n",
       "      <td>4</td>\n",
       "      <td>21</td>\n",
       "      <td>100.0</td>\n",
       "    </tr>\n",
       "    <tr>\n",
       "      <th>e</th>\n",
       "      <td>小七</td>\n",
       "      <td>5</td>\n",
       "      <td>22</td>\n",
       "      <td>85.0</td>\n",
       "    </tr>\n",
       "  </tbody>\n",
       "</table>\n",
       "</div>"
      ]
     },
     "execution_count": 6,
     "metadata": {},
     "output_type": "execute_result"
    }
   ],
   "execution_count": 6
  },
  {
   "metadata": {},
   "cell_type": "markdown",
   "source": "### 2.DataFrame的属性",
   "id": "9af655e8d0d61769"
  },
  {
   "metadata": {
    "ExecuteTime": {
     "end_time": "2025-08-16T13:29:22.065848Z",
     "start_time": "2025-08-16T13:29:22.059325Z"
    }
   },
   "cell_type": "code",
   "source": [
    "#行索引\n",
    "print(df.index)\n",
    "#列索引\n",
    "print(df.columns)\n",
    "#值\n",
    "print(df.values)\n",
    "#维度\n",
    "print(df.ndim)\n",
    "#形状\n",
    "print(df.shape)\n",
    "#数据类型\n",
    "print(df.dtypes)\n",
    "#转置\n",
    "print(df.T)\n",
    "#索引-获取值\n",
    "##某行\n",
    "print(df.loc['d']) #显式索引\n",
    "print(df.iloc[3]) #隐式索引\n",
    "##某列\n",
    "print(df.loc[:,'Name']) #显式索引\n",
    "print(df.iloc[:,0]) #隐式索引\n",
    "##单个元素\n",
    "print(df.at['d','Name']) #显式索引\n",
    "print(df.iat[3,0]) #隐式索引"
   ],
   "id": "f0199da8ad7e2494",
   "outputs": [
    {
     "name": "stdout",
     "output_type": "stream",
     "text": [
      "Index(['a', 'b', 'c', 'd', 'e'], dtype='object')\n",
      "Index(['Name', 'ID', 'age', 'score'], dtype='object')\n",
      "[['张三' 1 18 80.0]\n",
      " ['李四' 2 19 12.5]\n",
      " ['王五' 3 20 90.0]\n",
      " ['赵六' 4 21 100.0]\n",
      " ['小七' 5 22 85.0]]\n",
      "2\n",
      "(5, 4)\n",
      "Name      object\n",
      "ID         int64\n",
      "age        int64\n",
      "score    float64\n",
      "dtype: object\n",
      "          a     b     c      d     e\n",
      "Name     张三    李四    王五     赵六    小七\n",
      "ID        1     2     3      4     5\n",
      "age      18    19    20     21    22\n",
      "score  80.0  12.5  90.0  100.0  85.0\n",
      "Name        赵六\n",
      "ID           4\n",
      "age         21\n",
      "score    100.0\n",
      "Name: d, dtype: object\n",
      "Name        赵六\n",
      "ID           4\n",
      "age         21\n",
      "score    100.0\n",
      "Name: d, dtype: object\n",
      "a    张三\n",
      "b    李四\n",
      "c    王五\n",
      "d    赵六\n",
      "e    小七\n",
      "Name: Name, dtype: object\n",
      "a    张三\n",
      "b    李四\n",
      "c    王五\n",
      "d    赵六\n",
      "e    小七\n",
      "Name: Name, dtype: object\n",
      "赵六\n",
      "赵六\n"
     ]
    }
   ],
   "execution_count": 25
  },
  {
   "metadata": {
    "ExecuteTime": {
     "end_time": "2025-08-16T13:35:15.311675Z",
     "start_time": "2025-08-16T13:35:15.304050Z"
    }
   },
   "cell_type": "code",
   "source": [
    "# 获取单列数据\n",
    "print(df['Name'])\n",
    "print(df.Name)\n",
    "print(df[['Name']])\n",
    "print(df[['Name','age']])"
   ],
   "id": "62ce4c8fa0e15639",
   "outputs": [
    {
     "name": "stdout",
     "output_type": "stream",
     "text": [
      "a    张三\n",
      "b    李四\n",
      "c    王五\n",
      "d    赵六\n",
      "e    小七\n",
      "Name: Name, dtype: object\n",
      "a    张三\n",
      "b    李四\n",
      "c    王五\n",
      "d    赵六\n",
      "e    小七\n",
      "Name: Name, dtype: object\n",
      "  Name\n",
      "a   张三\n",
      "b   李四\n",
      "c   王五\n",
      "d   赵六\n",
      "e   小七\n",
      "  Name  age\n",
      "a   张三   18\n",
      "b   李四   19\n",
      "c   王五   20\n",
      "d   赵六   21\n",
      "e   小七   22\n"
     ]
    }
   ],
   "execution_count": 29
  },
  {
   "metadata": {
    "ExecuteTime": {
     "end_time": "2025-08-16T13:37:07.666909Z",
     "start_time": "2025-08-16T13:37:07.661633Z"
    }
   },
   "cell_type": "code",
   "source": [
    "print(df.head(2))\n",
    "print(df.tail(2))"
   ],
   "id": "1982ec6faf6f5391",
   "outputs": [
    {
     "name": "stdout",
     "output_type": "stream",
     "text": [
      "  Name  ID  age  score\n",
      "a   张三   1   18   80.0\n",
      "b   李四   2   19   12.5\n",
      "  Name  ID  age  score\n",
      "d   赵六   4   21  100.0\n",
      "e   小七   5   22   85.0\n"
     ]
    }
   ],
   "execution_count": 31
  },
  {
   "metadata": {
    "ExecuteTime": {
     "end_time": "2025-08-16T13:39:20.720398Z",
     "start_time": "2025-08-16T13:39:20.714963Z"
    }
   },
   "cell_type": "code",
   "source": "df[df.score>80]",
   "id": "cd05ab5dc8031fd9",
   "outputs": [
    {
     "data": {
      "text/plain": [
       "  Name  ID  age  score\n",
       "c   王五   3   20   90.0\n",
       "d   赵六   4   21  100.0\n",
       "e   小七   5   22   85.0"
      ],
      "text/html": [
       "<div>\n",
       "<style scoped>\n",
       "    .dataframe tbody tr th:only-of-type {\n",
       "        vertical-align: middle;\n",
       "    }\n",
       "\n",
       "    .dataframe tbody tr th {\n",
       "        vertical-align: top;\n",
       "    }\n",
       "\n",
       "    .dataframe thead th {\n",
       "        text-align: right;\n",
       "    }\n",
       "</style>\n",
       "<table border=\"1\" class=\"dataframe\">\n",
       "  <thead>\n",
       "    <tr style=\"text-align: right;\">\n",
       "      <th></th>\n",
       "      <th>Name</th>\n",
       "      <th>ID</th>\n",
       "      <th>age</th>\n",
       "      <th>score</th>\n",
       "    </tr>\n",
       "  </thead>\n",
       "  <tbody>\n",
       "    <tr>\n",
       "      <th>c</th>\n",
       "      <td>王五</td>\n",
       "      <td>3</td>\n",
       "      <td>20</td>\n",
       "      <td>90.0</td>\n",
       "    </tr>\n",
       "    <tr>\n",
       "      <th>d</th>\n",
       "      <td>赵六</td>\n",
       "      <td>4</td>\n",
       "      <td>21</td>\n",
       "      <td>100.0</td>\n",
       "    </tr>\n",
       "    <tr>\n",
       "      <th>e</th>\n",
       "      <td>小七</td>\n",
       "      <td>5</td>\n",
       "      <td>22</td>\n",
       "      <td>85.0</td>\n",
       "    </tr>\n",
       "  </tbody>\n",
       "</table>\n",
       "</div>"
      ]
     },
     "execution_count": 37,
     "metadata": {},
     "output_type": "execute_result"
    }
   ],
   "execution_count": 37
  },
  {
   "metadata": {
    "ExecuteTime": {
     "end_time": "2025-08-16T13:41:04.094760Z",
     "start_time": "2025-08-16T13:41:04.089578Z"
    }
   },
   "cell_type": "code",
   "source": [
    "#随机抽样\n",
    "df.sample(3)"
   ],
   "id": "9af6293bb11c96db",
   "outputs": [
    {
     "data": {
      "text/plain": [
       "  Name  ID  age  score\n",
       "b   李四   2   19   12.5\n",
       "c   王五   3   20   90.0\n",
       "d   赵六   4   21  100.0"
      ],
      "text/html": [
       "<div>\n",
       "<style scoped>\n",
       "    .dataframe tbody tr th:only-of-type {\n",
       "        vertical-align: middle;\n",
       "    }\n",
       "\n",
       "    .dataframe tbody tr th {\n",
       "        vertical-align: top;\n",
       "    }\n",
       "\n",
       "    .dataframe thead th {\n",
       "        text-align: right;\n",
       "    }\n",
       "</style>\n",
       "<table border=\"1\" class=\"dataframe\">\n",
       "  <thead>\n",
       "    <tr style=\"text-align: right;\">\n",
       "      <th></th>\n",
       "      <th>Name</th>\n",
       "      <th>ID</th>\n",
       "      <th>age</th>\n",
       "      <th>score</th>\n",
       "    </tr>\n",
       "  </thead>\n",
       "  <tbody>\n",
       "    <tr>\n",
       "      <th>b</th>\n",
       "      <td>李四</td>\n",
       "      <td>2</td>\n",
       "      <td>19</td>\n",
       "      <td>12.5</td>\n",
       "    </tr>\n",
       "    <tr>\n",
       "      <th>c</th>\n",
       "      <td>王五</td>\n",
       "      <td>3</td>\n",
       "      <td>20</td>\n",
       "      <td>90.0</td>\n",
       "    </tr>\n",
       "    <tr>\n",
       "      <th>d</th>\n",
       "      <td>赵六</td>\n",
       "      <td>4</td>\n",
       "      <td>21</td>\n",
       "      <td>100.0</td>\n",
       "    </tr>\n",
       "  </tbody>\n",
       "</table>\n",
       "</div>"
      ]
     },
     "execution_count": 45,
     "metadata": {},
     "output_type": "execute_result"
    }
   ],
   "execution_count": 45
  },
  {
   "metadata": {},
   "cell_type": "markdown",
   "source": "### 3.DataFrame的方法",
   "id": "10be332b68515599"
  },
  {
   "metadata": {
    "ExecuteTime": {
     "end_time": "2025-08-16T13:48:23.888082Z",
     "start_time": "2025-08-16T13:48:23.883621Z"
    }
   },
   "cell_type": "code",
   "source": [
    "df\n",
    "#查看前n行数据\n",
    "print(df.head(2))\n",
    "#查看后n行数据\n",
    "print(df.tail(2))"
   ],
   "id": "6d07feaa25f0db82",
   "outputs": [
    {
     "name": "stdout",
     "output_type": "stream",
     "text": [
      "  Name  ID  age  score\n",
      "a   张三   1   18   80.0\n",
      "b   李四   2   19   12.5\n",
      "  Name  ID  age  score\n",
      "d   赵六   4   21  100.0\n",
      "e   小七   5   22   85.0\n"
     ]
    }
   ],
   "execution_count": 47
  },
  {
   "metadata": {
    "ExecuteTime": {
     "end_time": "2025-08-16T13:50:45.759418Z",
     "start_time": "2025-08-16T13:50:45.754029Z"
    }
   },
   "cell_type": "code",
   "source": [
    "# 查看元素是否包含在参数集合中\n",
    "print(df.isin(['张三',12.5]))\n",
    "# 查看元素是否为NaN\n",
    "print(df.isna())"
   ],
   "id": "8c5083ebc1618ca3",
   "outputs": [
    {
     "name": "stdout",
     "output_type": "stream",
     "text": [
      "    Name     ID    age  score\n",
      "a   True  False  False  False\n",
      "b  False  False  False   True\n",
      "c  False  False  False  False\n",
      "d  False  False  False  False\n",
      "e  False  False  False  False\n",
      "    Name     ID    age  score\n",
      "a  False  False  False  False\n",
      "b  False  False  False  False\n",
      "c  False  False  False  False\n",
      "d  False  False  False  False\n",
      "e  False  False  False  False\n"
     ]
    }
   ],
   "execution_count": 53
  },
  {
   "metadata": {
    "ExecuteTime": {
     "end_time": "2025-08-16T13:57:45.905769Z",
     "start_time": "2025-08-16T13:57:45.897823Z"
    }
   },
   "cell_type": "code",
   "source": [
    "print(df['score'].sum()) #求和\n",
    "print(df.score.max()) #最大值\n",
    "print(df.age.min()) #最小值\n",
    "print(df.score.mean()) #平均值\n",
    "print(df.score.median()) #中位数\n",
    "print(df.score.mode()) #众数\n",
    "print(df.score.std()) #标准差\n",
    "print(df.score.var()) #方差\n",
    "print(df.describe()) #描述性统计"
   ],
   "id": "eb442e00000d592f",
   "outputs": [
    {
     "name": "stdout",
     "output_type": "stream",
     "text": [
      "367.5\n",
      "100.0\n",
      "18\n",
      "73.5\n",
      "85.0\n",
      "0     12.5\n",
      "1     80.0\n",
      "2     85.0\n",
      "3     90.0\n",
      "4    100.0\n",
      "Name: score, dtype: float64\n",
      "34.8926926447358\n",
      "1217.5\n",
      "             ID        age       score\n",
      "count  5.000000   5.000000    5.000000\n",
      "mean   3.000000  20.000000   73.500000\n",
      "std    1.581139   1.581139   34.892693\n",
      "min    1.000000  18.000000   12.500000\n",
      "25%    2.000000  19.000000   80.000000\n",
      "50%    3.000000  20.000000   85.000000\n",
      "75%    4.000000  21.000000   90.000000\n",
      "max    5.000000  22.000000  100.000000\n"
     ]
    }
   ],
   "execution_count": 65
  },
  {
   "metadata": {
    "ExecuteTime": {
     "end_time": "2025-08-16T13:59:28.774018Z",
     "start_time": "2025-08-16T13:59:28.762699Z"
    }
   },
   "cell_type": "code",
   "source": [
    "print(df.count()) #非NaN元素个数\n",
    "print(df.value_counts()) #出现次数"
   ],
   "id": "6757c4100e126cd7",
   "outputs": [
    {
     "name": "stdout",
     "output_type": "stream",
     "text": [
      "Name     5\n",
      "ID       5\n",
      "age      5\n",
      "score    5\n",
      "dtype: int64\n",
      "Name  ID  age  score\n",
      "小七    5   22   85.0     1\n",
      "张三    1   18   80.0     1\n",
      "李四    2   19   12.5     1\n",
      "王五    3   20   90.0     1\n",
      "赵六    4   21   100.0    1\n",
      "Name: count, dtype: int64\n"
     ]
    }
   ],
   "execution_count": 67
  },
  {
   "metadata": {
    "ExecuteTime": {
     "end_time": "2025-08-16T14:01:36.555387Z",
     "start_time": "2025-08-16T14:01:36.550147Z"
    }
   },
   "cell_type": "code",
   "source": [
    "print(df.drop_duplicates()) #去重\n",
    "print(df.duplicated(subset=['Name']))"
   ],
   "id": "6ae53bb41d0452d7",
   "outputs": [
    {
     "name": "stdout",
     "output_type": "stream",
     "text": [
      "  Name  ID  age  score\n",
      "a   张三   1   18   80.0\n",
      "b   李四   2   19   12.5\n",
      "c   王五   3   20   90.0\n",
      "d   赵六   4   21  100.0\n",
      "e   小七   5   22   85.0\n",
      "a    False\n",
      "b    False\n",
      "c    False\n",
      "d    False\n",
      "e    False\n",
      "dtype: bool\n"
     ]
    }
   ],
   "execution_count": 69
  },
  {
   "metadata": {
    "ExecuteTime": {
     "end_time": "2025-08-16T14:03:09.869183Z",
     "start_time": "2025-08-16T14:03:09.865069Z"
    }
   },
   "cell_type": "code",
   "source": [
    "df.sample(2) #随机抽样\n",
    "print(df.replace(1,10)) #替换"
   ],
   "id": "968117bcfb265b2f",
   "outputs": [
    {
     "name": "stdout",
     "output_type": "stream",
     "text": [
      "  Name  ID  age  score\n",
      "a   张三  10   18   80.0\n",
      "b   李四   2   19   12.5\n",
      "c   王五   3   20   90.0\n",
      "d   赵六   4   21  100.0\n",
      "e   小七   5   22   85.0\n"
     ]
    }
   ],
   "execution_count": 71
  },
  {
   "metadata": {
    "ExecuteTime": {
     "end_time": "2025-08-16T14:04:13.897626Z",
     "start_time": "2025-08-16T14:04:13.891878Z"
    }
   },
   "cell_type": "code",
   "source": "df.cumsum() #累加",
   "id": "228e03ae43abe6e4",
   "outputs": [
    {
     "data": {
      "text/plain": [
       "         Name  ID  age  score\n",
       "a          张三   1   18   80.0\n",
       "b        张三李四   3   37   92.5\n",
       "c      张三李四王五   6   57  182.5\n",
       "d    张三李四王五赵六  10   78  282.5\n",
       "e  张三李四王五赵六小七  15  100  367.5"
      ],
      "text/html": [
       "<div>\n",
       "<style scoped>\n",
       "    .dataframe tbody tr th:only-of-type {\n",
       "        vertical-align: middle;\n",
       "    }\n",
       "\n",
       "    .dataframe tbody tr th {\n",
       "        vertical-align: top;\n",
       "    }\n",
       "\n",
       "    .dataframe thead th {\n",
       "        text-align: right;\n",
       "    }\n",
       "</style>\n",
       "<table border=\"1\" class=\"dataframe\">\n",
       "  <thead>\n",
       "    <tr style=\"text-align: right;\">\n",
       "      <th></th>\n",
       "      <th>Name</th>\n",
       "      <th>ID</th>\n",
       "      <th>age</th>\n",
       "      <th>score</th>\n",
       "    </tr>\n",
       "  </thead>\n",
       "  <tbody>\n",
       "    <tr>\n",
       "      <th>a</th>\n",
       "      <td>张三</td>\n",
       "      <td>1</td>\n",
       "      <td>18</td>\n",
       "      <td>80.0</td>\n",
       "    </tr>\n",
       "    <tr>\n",
       "      <th>b</th>\n",
       "      <td>张三李四</td>\n",
       "      <td>3</td>\n",
       "      <td>37</td>\n",
       "      <td>92.5</td>\n",
       "    </tr>\n",
       "    <tr>\n",
       "      <th>c</th>\n",
       "      <td>张三李四王五</td>\n",
       "      <td>6</td>\n",
       "      <td>57</td>\n",
       "      <td>182.5</td>\n",
       "    </tr>\n",
       "    <tr>\n",
       "      <th>d</th>\n",
       "      <td>张三李四王五赵六</td>\n",
       "      <td>10</td>\n",
       "      <td>78</td>\n",
       "      <td>282.5</td>\n",
       "    </tr>\n",
       "    <tr>\n",
       "      <th>e</th>\n",
       "      <td>张三李四王五赵六小七</td>\n",
       "      <td>15</td>\n",
       "      <td>100</td>\n",
       "      <td>367.5</td>\n",
       "    </tr>\n",
       "  </tbody>\n",
       "</table>\n",
       "</div>"
      ]
     },
     "execution_count": 72,
     "metadata": {},
     "output_type": "execute_result"
    }
   ],
   "execution_count": 72
  },
  {
   "metadata": {
    "ExecuteTime": {
     "end_time": "2025-08-16T14:08:02.656600Z",
     "start_time": "2025-08-16T14:08:02.647161Z"
    }
   },
   "cell_type": "code",
   "source": [
    "print(df.sort_index(ascending=False)) #按索引排序\n",
    "print(df.sort_values(by='score',ascending=False))\n",
    "print(df.sort_values(by=['score','age'],ascending=[False,False])) #按多个列排序,先按score,相同则按age"
   ],
   "id": "88ca86675a0f422",
   "outputs": [
    {
     "name": "stdout",
     "output_type": "stream",
     "text": [
      "  Name  ID  age  score\n",
      "e   小七   5   22   85.0\n",
      "d   赵六   4   21  100.0\n",
      "c   王五   3   20   90.0\n",
      "b   李四   2   19   12.5\n",
      "a   张三   1   18   80.0\n",
      "  Name  ID  age  score\n",
      "d   赵六   4   21  100.0\n",
      "c   王五   3   20   90.0\n",
      "e   小七   5   22   85.0\n",
      "a   张三   1   18   80.0\n",
      "b   李四   2   19   12.5\n"
     ]
    }
   ],
   "execution_count": 74
  },
  {
   "metadata": {
    "ExecuteTime": {
     "end_time": "2025-08-16T14:11:07.854783Z",
     "start_time": "2025-08-16T14:11:07.844864Z"
    }
   },
   "cell_type": "code",
   "outputs": [
    {
     "data": {
      "text/plain": [
       "  Name  ID  age  score\n",
       "d   赵六   4   21  100.0\n",
       "c   王五   3   20   90.0"
      ],
      "text/html": [
       "<div>\n",
       "<style scoped>\n",
       "    .dataframe tbody tr th:only-of-type {\n",
       "        vertical-align: middle;\n",
       "    }\n",
       "\n",
       "    .dataframe tbody tr th {\n",
       "        vertical-align: top;\n",
       "    }\n",
       "\n",
       "    .dataframe thead th {\n",
       "        text-align: right;\n",
       "    }\n",
       "</style>\n",
       "<table border=\"1\" class=\"dataframe\">\n",
       "  <thead>\n",
       "    <tr style=\"text-align: right;\">\n",
       "      <th></th>\n",
       "      <th>Name</th>\n",
       "      <th>ID</th>\n",
       "      <th>age</th>\n",
       "      <th>score</th>\n",
       "    </tr>\n",
       "  </thead>\n",
       "  <tbody>\n",
       "    <tr>\n",
       "      <th>d</th>\n",
       "      <td>赵六</td>\n",
       "      <td>4</td>\n",
       "      <td>21</td>\n",
       "      <td>100.0</td>\n",
       "    </tr>\n",
       "    <tr>\n",
       "      <th>c</th>\n",
       "      <td>王五</td>\n",
       "      <td>3</td>\n",
       "      <td>20</td>\n",
       "      <td>90.0</td>\n",
       "    </tr>\n",
       "  </tbody>\n",
       "</table>\n",
       "</div>"
      ]
     },
     "execution_count": 75,
     "metadata": {},
     "output_type": "execute_result"
    }
   ],
   "execution_count": 75,
   "source": "df.nlargest(2,columns='score')",
   "id": "6020261394dc0b94"
  },
  {
   "metadata": {},
   "cell_type": "markdown",
   "source": [
    "### 4.案例\n",
    "案例1：学生成绩分析\\\n",
    "场景：某班级的学生成绩数据如下，请完成以下任务：\\\n",
    "1.计算每位学生的总分和平均分\\\n",
    "2.找出数学成绩高于90分或英语成绩高于85分的学生\\\n",
    "3.按总分从高到低排序，并输出前3名学生"
   ],
   "id": "ebf335083f7d4cf4"
  },
  {
   "metadata": {
    "ExecuteTime": {
     "end_time": "2025-08-17T05:39:44.506174Z",
     "start_time": "2025-08-17T05:39:44.500028Z"
    }
   },
   "cell_type": "code",
   "source": [
    "import numpy as np\n",
    "import pandas as pd\n",
    "data = pd.DataFrame({'Name':['张三','李四','王五','赵六','钱七'],\n",
    "                  'Math':[90,85,80,95,100],\n",
    "                  'English':[85,90,95,80,90],\n",
    "                   'physics':[75,80,85,90,95]\n",
    "                   })\n",
    "data"
   ],
   "id": "192a346eeb260c8a",
   "outputs": [
    {
     "data": {
      "text/plain": [
       "  Name  Math  English  physics\n",
       "0   张三    90       85       75\n",
       "1   李四    85       90       80\n",
       "2   王五    80       95       85\n",
       "3   赵六    95       80       90\n",
       "4   钱七   100       90       95"
      ],
      "text/html": [
       "<div>\n",
       "<style scoped>\n",
       "    .dataframe tbody tr th:only-of-type {\n",
       "        vertical-align: middle;\n",
       "    }\n",
       "\n",
       "    .dataframe tbody tr th {\n",
       "        vertical-align: top;\n",
       "    }\n",
       "\n",
       "    .dataframe thead th {\n",
       "        text-align: right;\n",
       "    }\n",
       "</style>\n",
       "<table border=\"1\" class=\"dataframe\">\n",
       "  <thead>\n",
       "    <tr style=\"text-align: right;\">\n",
       "      <th></th>\n",
       "      <th>Name</th>\n",
       "      <th>Math</th>\n",
       "      <th>English</th>\n",
       "      <th>physics</th>\n",
       "    </tr>\n",
       "  </thead>\n",
       "  <tbody>\n",
       "    <tr>\n",
       "      <th>0</th>\n",
       "      <td>张三</td>\n",
       "      <td>90</td>\n",
       "      <td>85</td>\n",
       "      <td>75</td>\n",
       "    </tr>\n",
       "    <tr>\n",
       "      <th>1</th>\n",
       "      <td>李四</td>\n",
       "      <td>85</td>\n",
       "      <td>90</td>\n",
       "      <td>80</td>\n",
       "    </tr>\n",
       "    <tr>\n",
       "      <th>2</th>\n",
       "      <td>王五</td>\n",
       "      <td>80</td>\n",
       "      <td>95</td>\n",
       "      <td>85</td>\n",
       "    </tr>\n",
       "    <tr>\n",
       "      <th>3</th>\n",
       "      <td>赵六</td>\n",
       "      <td>95</td>\n",
       "      <td>80</td>\n",
       "      <td>90</td>\n",
       "    </tr>\n",
       "    <tr>\n",
       "      <th>4</th>\n",
       "      <td>钱七</td>\n",
       "      <td>100</td>\n",
       "      <td>90</td>\n",
       "      <td>95</td>\n",
       "    </tr>\n",
       "  </tbody>\n",
       "</table>\n",
       "</div>"
      ]
     },
     "execution_count": 8,
     "metadata": {},
     "output_type": "execute_result"
    }
   ],
   "execution_count": 8
  },
  {
   "metadata": {
    "ExecuteTime": {
     "end_time": "2025-08-17T05:42:25.659460Z",
     "start_time": "2025-08-17T05:42:25.652558Z"
    }
   },
   "cell_type": "code",
   "source": [
    "#1.计算每位学生的总分和平均分\n",
    "data['总分'] = data[['Math','English','physics']].sum(axis=1) #axis=1行求和\n",
    "data['平均分'] = data[['Math','English','physics']].mean(axis=1)\n",
    "data"
   ],
   "id": "30f5fce55eb9eab3",
   "outputs": [
    {
     "data": {
      "text/plain": [
       "  Name  Math  English  physics   总分        平均分\n",
       "0   张三    90       85       75  250  83.333333\n",
       "1   李四    85       90       80  255  85.000000\n",
       "2   王五    80       95       85  260  86.666667\n",
       "3   赵六    95       80       90  265  88.333333\n",
       "4   钱七   100       90       95  285  95.000000"
      ],
      "text/html": [
       "<div>\n",
       "<style scoped>\n",
       "    .dataframe tbody tr th:only-of-type {\n",
       "        vertical-align: middle;\n",
       "    }\n",
       "\n",
       "    .dataframe tbody tr th {\n",
       "        vertical-align: top;\n",
       "    }\n",
       "\n",
       "    .dataframe thead th {\n",
       "        text-align: right;\n",
       "    }\n",
       "</style>\n",
       "<table border=\"1\" class=\"dataframe\">\n",
       "  <thead>\n",
       "    <tr style=\"text-align: right;\">\n",
       "      <th></th>\n",
       "      <th>Name</th>\n",
       "      <th>Math</th>\n",
       "      <th>English</th>\n",
       "      <th>physics</th>\n",
       "      <th>总分</th>\n",
       "      <th>平均分</th>\n",
       "    </tr>\n",
       "  </thead>\n",
       "  <tbody>\n",
       "    <tr>\n",
       "      <th>0</th>\n",
       "      <td>张三</td>\n",
       "      <td>90</td>\n",
       "      <td>85</td>\n",
       "      <td>75</td>\n",
       "      <td>250</td>\n",
       "      <td>83.333333</td>\n",
       "    </tr>\n",
       "    <tr>\n",
       "      <th>1</th>\n",
       "      <td>李四</td>\n",
       "      <td>85</td>\n",
       "      <td>90</td>\n",
       "      <td>80</td>\n",
       "      <td>255</td>\n",
       "      <td>85.000000</td>\n",
       "    </tr>\n",
       "    <tr>\n",
       "      <th>2</th>\n",
       "      <td>王五</td>\n",
       "      <td>80</td>\n",
       "      <td>95</td>\n",
       "      <td>85</td>\n",
       "      <td>260</td>\n",
       "      <td>86.666667</td>\n",
       "    </tr>\n",
       "    <tr>\n",
       "      <th>3</th>\n",
       "      <td>赵六</td>\n",
       "      <td>95</td>\n",
       "      <td>80</td>\n",
       "      <td>90</td>\n",
       "      <td>265</td>\n",
       "      <td>88.333333</td>\n",
       "    </tr>\n",
       "    <tr>\n",
       "      <th>4</th>\n",
       "      <td>钱七</td>\n",
       "      <td>100</td>\n",
       "      <td>90</td>\n",
       "      <td>95</td>\n",
       "      <td>285</td>\n",
       "      <td>95.000000</td>\n",
       "    </tr>\n",
       "  </tbody>\n",
       "</table>\n",
       "</div>"
      ]
     },
     "execution_count": 15,
     "metadata": {},
     "output_type": "execute_result"
    }
   ],
   "execution_count": 15
  },
  {
   "metadata": {
    "ExecuteTime": {
     "end_time": "2025-08-17T05:45:14.287711Z",
     "start_time": "2025-08-17T05:45:14.277990Z"
    }
   },
   "cell_type": "code",
   "source": [
    "#2.找出数学成绩高于90分或英语成绩高于85分的学生\n",
    "data[(data['Math']>90)|(data['English']>85)]"
   ],
   "id": "b694fe6d8025a22a",
   "outputs": [
    {
     "data": {
      "text/plain": [
       "  Name  Math  English  physics   总分        平均分\n",
       "1   李四    85       90       80  255  85.000000\n",
       "2   王五    80       95       85  260  86.666667\n",
       "3   赵六    95       80       90  265  88.333333\n",
       "4   钱七   100       90       95  285  95.000000"
      ],
      "text/html": [
       "<div>\n",
       "<style scoped>\n",
       "    .dataframe tbody tr th:only-of-type {\n",
       "        vertical-align: middle;\n",
       "    }\n",
       "\n",
       "    .dataframe tbody tr th {\n",
       "        vertical-align: top;\n",
       "    }\n",
       "\n",
       "    .dataframe thead th {\n",
       "        text-align: right;\n",
       "    }\n",
       "</style>\n",
       "<table border=\"1\" class=\"dataframe\">\n",
       "  <thead>\n",
       "    <tr style=\"text-align: right;\">\n",
       "      <th></th>\n",
       "      <th>Name</th>\n",
       "      <th>Math</th>\n",
       "      <th>English</th>\n",
       "      <th>physics</th>\n",
       "      <th>总分</th>\n",
       "      <th>平均分</th>\n",
       "    </tr>\n",
       "  </thead>\n",
       "  <tbody>\n",
       "    <tr>\n",
       "      <th>1</th>\n",
       "      <td>李四</td>\n",
       "      <td>85</td>\n",
       "      <td>90</td>\n",
       "      <td>80</td>\n",
       "      <td>255</td>\n",
       "      <td>85.000000</td>\n",
       "    </tr>\n",
       "    <tr>\n",
       "      <th>2</th>\n",
       "      <td>王五</td>\n",
       "      <td>80</td>\n",
       "      <td>95</td>\n",
       "      <td>85</td>\n",
       "      <td>260</td>\n",
       "      <td>86.666667</td>\n",
       "    </tr>\n",
       "    <tr>\n",
       "      <th>3</th>\n",
       "      <td>赵六</td>\n",
       "      <td>95</td>\n",
       "      <td>80</td>\n",
       "      <td>90</td>\n",
       "      <td>265</td>\n",
       "      <td>88.333333</td>\n",
       "    </tr>\n",
       "    <tr>\n",
       "      <th>4</th>\n",
       "      <td>钱七</td>\n",
       "      <td>100</td>\n",
       "      <td>90</td>\n",
       "      <td>95</td>\n",
       "      <td>285</td>\n",
       "      <td>95.000000</td>\n",
       "    </tr>\n",
       "  </tbody>\n",
       "</table>\n",
       "</div>"
      ]
     },
     "execution_count": 16,
     "metadata": {},
     "output_type": "execute_result"
    }
   ],
   "execution_count": 16
  },
  {
   "metadata": {
    "ExecuteTime": {
     "end_time": "2025-08-17T05:50:21.710329Z",
     "start_time": "2025-08-17T05:50:21.700719Z"
    }
   },
   "cell_type": "code",
   "source": [
    "#3.按总分从高到低排序，并输出前3名学生\n",
    "data.sort_values(by='总分',ascending=False).head(3)"
   ],
   "id": "3cf6b400bbf312b2",
   "outputs": [
    {
     "data": {
      "text/plain": [
       "  Name  Math  English  physics   总分        平均分\n",
       "4   钱七   100       90       95  285  95.000000\n",
       "3   赵六    95       80       90  265  88.333333\n",
       "2   王五    80       95       85  260  86.666667"
      ],
      "text/html": [
       "<div>\n",
       "<style scoped>\n",
       "    .dataframe tbody tr th:only-of-type {\n",
       "        vertical-align: middle;\n",
       "    }\n",
       "\n",
       "    .dataframe tbody tr th {\n",
       "        vertical-align: top;\n",
       "    }\n",
       "\n",
       "    .dataframe thead th {\n",
       "        text-align: right;\n",
       "    }\n",
       "</style>\n",
       "<table border=\"1\" class=\"dataframe\">\n",
       "  <thead>\n",
       "    <tr style=\"text-align: right;\">\n",
       "      <th></th>\n",
       "      <th>Name</th>\n",
       "      <th>Math</th>\n",
       "      <th>English</th>\n",
       "      <th>physics</th>\n",
       "      <th>总分</th>\n",
       "      <th>平均分</th>\n",
       "    </tr>\n",
       "  </thead>\n",
       "  <tbody>\n",
       "    <tr>\n",
       "      <th>4</th>\n",
       "      <td>钱七</td>\n",
       "      <td>100</td>\n",
       "      <td>90</td>\n",
       "      <td>95</td>\n",
       "      <td>285</td>\n",
       "      <td>95.000000</td>\n",
       "    </tr>\n",
       "    <tr>\n",
       "      <th>3</th>\n",
       "      <td>赵六</td>\n",
       "      <td>95</td>\n",
       "      <td>80</td>\n",
       "      <td>90</td>\n",
       "      <td>265</td>\n",
       "      <td>88.333333</td>\n",
       "    </tr>\n",
       "    <tr>\n",
       "      <th>2</th>\n",
       "      <td>王五</td>\n",
       "      <td>80</td>\n",
       "      <td>95</td>\n",
       "      <td>85</td>\n",
       "      <td>260</td>\n",
       "      <td>86.666667</td>\n",
       "    </tr>\n",
       "  </tbody>\n",
       "</table>\n",
       "</div>"
      ]
     },
     "execution_count": 17,
     "metadata": {},
     "output_type": "execute_result"
    }
   ],
   "execution_count": 17
  },
  {
   "metadata": {},
   "cell_type": "markdown",
   "source": [
    "案例2：销售数据分析\\\n",
    "场景：某公司销售数据如下，请完成以下任务：\\\n",
    "1.计算每种产品的总销售额 (销售额=单价×销量)\\\n",
    "2.找出销售额最高的产品\\\n",
    "3.按销售额从高到低排序，并输出所有产品信息"
   ],
   "id": "f9513f6bc8719c48"
  },
  {
   "metadata": {
    "ExecuteTime": {
     "end_time": "2025-08-17T05:56:10.728277Z",
     "start_time": "2025-08-17T05:56:10.723511Z"
    }
   },
   "cell_type": "code",
   "source": [
    "data = {\n",
    "    '产品名称':['A','B','C','D'],\n",
    "    '单价':[100,150,200,120],\n",
    "    '销量':[50,30,20,40]\n",
    "}\n",
    "df = pd.DataFrame(data)\n",
    "df"
   ],
   "id": "46e448f0d0b72af1",
   "outputs": [
    {
     "data": {
      "text/plain": [
       "  产品名称   单价  销量\n",
       "0    A  100  50\n",
       "1    B  150  30\n",
       "2    C  200  20\n",
       "3    D  120  40"
      ],
      "text/html": [
       "<div>\n",
       "<style scoped>\n",
       "    .dataframe tbody tr th:only-of-type {\n",
       "        vertical-align: middle;\n",
       "    }\n",
       "\n",
       "    .dataframe tbody tr th {\n",
       "        vertical-align: top;\n",
       "    }\n",
       "\n",
       "    .dataframe thead th {\n",
       "        text-align: right;\n",
       "    }\n",
       "</style>\n",
       "<table border=\"1\" class=\"dataframe\">\n",
       "  <thead>\n",
       "    <tr style=\"text-align: right;\">\n",
       "      <th></th>\n",
       "      <th>产品名称</th>\n",
       "      <th>单价</th>\n",
       "      <th>销量</th>\n",
       "    </tr>\n",
       "  </thead>\n",
       "  <tbody>\n",
       "    <tr>\n",
       "      <th>0</th>\n",
       "      <td>A</td>\n",
       "      <td>100</td>\n",
       "      <td>50</td>\n",
       "    </tr>\n",
       "    <tr>\n",
       "      <th>1</th>\n",
       "      <td>B</td>\n",
       "      <td>150</td>\n",
       "      <td>30</td>\n",
       "    </tr>\n",
       "    <tr>\n",
       "      <th>2</th>\n",
       "      <td>C</td>\n",
       "      <td>200</td>\n",
       "      <td>20</td>\n",
       "    </tr>\n",
       "    <tr>\n",
       "      <th>3</th>\n",
       "      <td>D</td>\n",
       "      <td>120</td>\n",
       "      <td>40</td>\n",
       "    </tr>\n",
       "  </tbody>\n",
       "</table>\n",
       "</div>"
      ]
     },
     "execution_count": 19,
     "metadata": {},
     "output_type": "execute_result"
    }
   ],
   "execution_count": 19
  },
  {
   "metadata": {
    "ExecuteTime": {
     "end_time": "2025-08-17T05:57:16.343814Z",
     "start_time": "2025-08-17T05:57:16.338812Z"
    }
   },
   "cell_type": "code",
   "source": [
    "#1.计算每种产品的总销售额\n",
    "df['销售额'] = df['单价']*df['销量']\n",
    "df"
   ],
   "id": "21b883e26a257386",
   "outputs": [
    {
     "data": {
      "text/plain": [
       "  产品名称   单价  销量   销售额\n",
       "0    A  100  50  5000\n",
       "1    B  150  30  4500\n",
       "2    C  200  20  4000\n",
       "3    D  120  40  4800"
      ],
      "text/html": [
       "<div>\n",
       "<style scoped>\n",
       "    .dataframe tbody tr th:only-of-type {\n",
       "        vertical-align: middle;\n",
       "    }\n",
       "\n",
       "    .dataframe tbody tr th {\n",
       "        vertical-align: top;\n",
       "    }\n",
       "\n",
       "    .dataframe thead th {\n",
       "        text-align: right;\n",
       "    }\n",
       "</style>\n",
       "<table border=\"1\" class=\"dataframe\">\n",
       "  <thead>\n",
       "    <tr style=\"text-align: right;\">\n",
       "      <th></th>\n",
       "      <th>产品名称</th>\n",
       "      <th>单价</th>\n",
       "      <th>销量</th>\n",
       "      <th>销售额</th>\n",
       "    </tr>\n",
       "  </thead>\n",
       "  <tbody>\n",
       "    <tr>\n",
       "      <th>0</th>\n",
       "      <td>A</td>\n",
       "      <td>100</td>\n",
       "      <td>50</td>\n",
       "      <td>5000</td>\n",
       "    </tr>\n",
       "    <tr>\n",
       "      <th>1</th>\n",
       "      <td>B</td>\n",
       "      <td>150</td>\n",
       "      <td>30</td>\n",
       "      <td>4500</td>\n",
       "    </tr>\n",
       "    <tr>\n",
       "      <th>2</th>\n",
       "      <td>C</td>\n",
       "      <td>200</td>\n",
       "      <td>20</td>\n",
       "      <td>4000</td>\n",
       "    </tr>\n",
       "    <tr>\n",
       "      <th>3</th>\n",
       "      <td>D</td>\n",
       "      <td>120</td>\n",
       "      <td>40</td>\n",
       "      <td>4800</td>\n",
       "    </tr>\n",
       "  </tbody>\n",
       "</table>\n",
       "</div>"
      ]
     },
     "execution_count": 21,
     "metadata": {},
     "output_type": "execute_result"
    }
   ],
   "execution_count": 21
  },
  {
   "metadata": {
    "ExecuteTime": {
     "end_time": "2025-08-17T05:59:57.706148Z",
     "start_time": "2025-08-17T05:59:57.700047Z"
    }
   },
   "cell_type": "code",
   "source": [
    "#2.找出销售额最高的产品\n",
    "df.nlargest(1,columns='销售额')\n",
    "#3.按销售额从高到低排序，并输出所有产品信息\n",
    "df.sort_values(by='销售额',ascending=False)"
   ],
   "id": "3661e1904361d55a",
   "outputs": [
    {
     "data": {
      "text/plain": [
       "  产品名称   单价  销量   销售额\n",
       "0    A  100  50  5000\n",
       "3    D  120  40  4800\n",
       "1    B  150  30  4500\n",
       "2    C  200  20  4000"
      ],
      "text/html": [
       "<div>\n",
       "<style scoped>\n",
       "    .dataframe tbody tr th:only-of-type {\n",
       "        vertical-align: middle;\n",
       "    }\n",
       "\n",
       "    .dataframe tbody tr th {\n",
       "        vertical-align: top;\n",
       "    }\n",
       "\n",
       "    .dataframe thead th {\n",
       "        text-align: right;\n",
       "    }\n",
       "</style>\n",
       "<table border=\"1\" class=\"dataframe\">\n",
       "  <thead>\n",
       "    <tr style=\"text-align: right;\">\n",
       "      <th></th>\n",
       "      <th>产品名称</th>\n",
       "      <th>单价</th>\n",
       "      <th>销量</th>\n",
       "      <th>销售额</th>\n",
       "    </tr>\n",
       "  </thead>\n",
       "  <tbody>\n",
       "    <tr>\n",
       "      <th>0</th>\n",
       "      <td>A</td>\n",
       "      <td>100</td>\n",
       "      <td>50</td>\n",
       "      <td>5000</td>\n",
       "    </tr>\n",
       "    <tr>\n",
       "      <th>3</th>\n",
       "      <td>D</td>\n",
       "      <td>120</td>\n",
       "      <td>40</td>\n",
       "      <td>4800</td>\n",
       "    </tr>\n",
       "    <tr>\n",
       "      <th>1</th>\n",
       "      <td>B</td>\n",
       "      <td>150</td>\n",
       "      <td>30</td>\n",
       "      <td>4500</td>\n",
       "    </tr>\n",
       "    <tr>\n",
       "      <th>2</th>\n",
       "      <td>C</td>\n",
       "      <td>200</td>\n",
       "      <td>20</td>\n",
       "      <td>4000</td>\n",
       "    </tr>\n",
       "  </tbody>\n",
       "</table>\n",
       "</div>"
      ]
     },
     "execution_count": 26,
     "metadata": {},
     "output_type": "execute_result"
    }
   ],
   "execution_count": 26
  },
  {
   "metadata": {},
   "cell_type": "markdown",
   "source": [
    "案例3：电商用户行为分析\\\n",
    "场景：某电商平台的用户行为数据如下，请完成以下任务：\\\n",
    "1.计算每位用户的总消费金额（消费金额=商品单价×购买数量）\\\n",
    "2.找出消费金额最高的用户，并输出其所有信息\\\n",
    "3.计算所有用户的平均消费金额（保留2位小数）\\\n",
    "4.统计电子产品的总购买数量"
   ],
   "id": "1ebf6c46eee15915"
  },
  {
   "metadata": {
    "ExecuteTime": {
     "end_time": "2025-08-17T06:04:52.863708Z",
     "start_time": "2025-08-17T06:04:52.857286Z"
    }
   },
   "cell_type": "code",
   "source": [
    "data = {\n",
    "'用户ID':[101,102,103,104,105],\n",
    "'用户名':['Alice','Bob','Charlie','David','Eve'],\n",
    "'商品类别':['电子产品','服饰','电子产品','家居','服饰'],\n",
    "'商品单价':[1200,300,800,150,200],\n",
    "'购买数量':[1,3,2,5,4]\n",
    "}\n",
    "df = pd.DataFrame(data)\n",
    "df"
   ],
   "id": "792b30be287b79bd",
   "outputs": [
    {
     "data": {
      "text/plain": [
       "   用户ID      用户名  商品类别  商品单价  购买数量\n",
       "0   101    Alice  电子产品  1200     1\n",
       "1   102      Bob    服饰   300     3\n",
       "2   103  Charlie  电子产品   800     2\n",
       "3   104    David    家居   150     5\n",
       "4   105      Eve    服饰   200     4"
      ],
      "text/html": [
       "<div>\n",
       "<style scoped>\n",
       "    .dataframe tbody tr th:only-of-type {\n",
       "        vertical-align: middle;\n",
       "    }\n",
       "\n",
       "    .dataframe tbody tr th {\n",
       "        vertical-align: top;\n",
       "    }\n",
       "\n",
       "    .dataframe thead th {\n",
       "        text-align: right;\n",
       "    }\n",
       "</style>\n",
       "<table border=\"1\" class=\"dataframe\">\n",
       "  <thead>\n",
       "    <tr style=\"text-align: right;\">\n",
       "      <th></th>\n",
       "      <th>用户ID</th>\n",
       "      <th>用户名</th>\n",
       "      <th>商品类别</th>\n",
       "      <th>商品单价</th>\n",
       "      <th>购买数量</th>\n",
       "    </tr>\n",
       "  </thead>\n",
       "  <tbody>\n",
       "    <tr>\n",
       "      <th>0</th>\n",
       "      <td>101</td>\n",
       "      <td>Alice</td>\n",
       "      <td>电子产品</td>\n",
       "      <td>1200</td>\n",
       "      <td>1</td>\n",
       "    </tr>\n",
       "    <tr>\n",
       "      <th>1</th>\n",
       "      <td>102</td>\n",
       "      <td>Bob</td>\n",
       "      <td>服饰</td>\n",
       "      <td>300</td>\n",
       "      <td>3</td>\n",
       "    </tr>\n",
       "    <tr>\n",
       "      <th>2</th>\n",
       "      <td>103</td>\n",
       "      <td>Charlie</td>\n",
       "      <td>电子产品</td>\n",
       "      <td>800</td>\n",
       "      <td>2</td>\n",
       "    </tr>\n",
       "    <tr>\n",
       "      <th>3</th>\n",
       "      <td>104</td>\n",
       "      <td>David</td>\n",
       "      <td>家居</td>\n",
       "      <td>150</td>\n",
       "      <td>5</td>\n",
       "    </tr>\n",
       "    <tr>\n",
       "      <th>4</th>\n",
       "      <td>105</td>\n",
       "      <td>Eve</td>\n",
       "      <td>服饰</td>\n",
       "      <td>200</td>\n",
       "      <td>4</td>\n",
       "    </tr>\n",
       "  </tbody>\n",
       "</table>\n",
       "</div>"
      ]
     },
     "execution_count": 27,
     "metadata": {},
     "output_type": "execute_result"
    }
   ],
   "execution_count": 27
  },
  {
   "metadata": {
    "ExecuteTime": {
     "end_time": "2025-08-17T06:05:14.275342Z",
     "start_time": "2025-08-17T06:05:14.269378Z"
    }
   },
   "cell_type": "code",
   "source": [
    "#1.计算每位用户的总消费金额\n",
    "df['总消费金额'] = df['商品单价']*df['购买数量']\n",
    "df"
   ],
   "id": "a1f253d18464d1e1",
   "outputs": [
    {
     "data": {
      "text/plain": [
       "   用户ID      用户名  商品类别  商品单价  购买数量  总消费金额\n",
       "0   101    Alice  电子产品  1200     1   1200\n",
       "1   102      Bob    服饰   300     3    900\n",
       "2   103  Charlie  电子产品   800     2   1600\n",
       "3   104    David    家居   150     5    750\n",
       "4   105      Eve    服饰   200     4    800"
      ],
      "text/html": [
       "<div>\n",
       "<style scoped>\n",
       "    .dataframe tbody tr th:only-of-type {\n",
       "        vertical-align: middle;\n",
       "    }\n",
       "\n",
       "    .dataframe tbody tr th {\n",
       "        vertical-align: top;\n",
       "    }\n",
       "\n",
       "    .dataframe thead th {\n",
       "        text-align: right;\n",
       "    }\n",
       "</style>\n",
       "<table border=\"1\" class=\"dataframe\">\n",
       "  <thead>\n",
       "    <tr style=\"text-align: right;\">\n",
       "      <th></th>\n",
       "      <th>用户ID</th>\n",
       "      <th>用户名</th>\n",
       "      <th>商品类别</th>\n",
       "      <th>商品单价</th>\n",
       "      <th>购买数量</th>\n",
       "      <th>总消费金额</th>\n",
       "    </tr>\n",
       "  </thead>\n",
       "  <tbody>\n",
       "    <tr>\n",
       "      <th>0</th>\n",
       "      <td>101</td>\n",
       "      <td>Alice</td>\n",
       "      <td>电子产品</td>\n",
       "      <td>1200</td>\n",
       "      <td>1</td>\n",
       "      <td>1200</td>\n",
       "    </tr>\n",
       "    <tr>\n",
       "      <th>1</th>\n",
       "      <td>102</td>\n",
       "      <td>Bob</td>\n",
       "      <td>服饰</td>\n",
       "      <td>300</td>\n",
       "      <td>3</td>\n",
       "      <td>900</td>\n",
       "    </tr>\n",
       "    <tr>\n",
       "      <th>2</th>\n",
       "      <td>103</td>\n",
       "      <td>Charlie</td>\n",
       "      <td>电子产品</td>\n",
       "      <td>800</td>\n",
       "      <td>2</td>\n",
       "      <td>1600</td>\n",
       "    </tr>\n",
       "    <tr>\n",
       "      <th>3</th>\n",
       "      <td>104</td>\n",
       "      <td>David</td>\n",
       "      <td>家居</td>\n",
       "      <td>150</td>\n",
       "      <td>5</td>\n",
       "      <td>750</td>\n",
       "    </tr>\n",
       "    <tr>\n",
       "      <th>4</th>\n",
       "      <td>105</td>\n",
       "      <td>Eve</td>\n",
       "      <td>服饰</td>\n",
       "      <td>200</td>\n",
       "      <td>4</td>\n",
       "      <td>800</td>\n",
       "    </tr>\n",
       "  </tbody>\n",
       "</table>\n",
       "</div>"
      ]
     },
     "execution_count": 29,
     "metadata": {},
     "output_type": "execute_result"
    }
   ],
   "execution_count": 29
  },
  {
   "metadata": {
    "ExecuteTime": {
     "end_time": "2025-08-17T06:06:25.281428Z",
     "start_time": "2025-08-17T06:06:25.275546Z"
    }
   },
   "cell_type": "code",
   "source": [
    "#2.找出消费金额最高的用户，并输出其所有信息\n",
    "df.nlargest(1,columns='总消费金额')"
   ],
   "id": "521232713c74678b",
   "outputs": [
    {
     "data": {
      "text/plain": [
       "   用户ID      用户名  商品类别  商品单价  购买数量  总消费金额\n",
       "2   103  Charlie  电子产品   800     2   1600"
      ],
      "text/html": [
       "<div>\n",
       "<style scoped>\n",
       "    .dataframe tbody tr th:only-of-type {\n",
       "        vertical-align: middle;\n",
       "    }\n",
       "\n",
       "    .dataframe tbody tr th {\n",
       "        vertical-align: top;\n",
       "    }\n",
       "\n",
       "    .dataframe thead th {\n",
       "        text-align: right;\n",
       "    }\n",
       "</style>\n",
       "<table border=\"1\" class=\"dataframe\">\n",
       "  <thead>\n",
       "    <tr style=\"text-align: right;\">\n",
       "      <th></th>\n",
       "      <th>用户ID</th>\n",
       "      <th>用户名</th>\n",
       "      <th>商品类别</th>\n",
       "      <th>商品单价</th>\n",
       "      <th>购买数量</th>\n",
       "      <th>总消费金额</th>\n",
       "    </tr>\n",
       "  </thead>\n",
       "  <tbody>\n",
       "    <tr>\n",
       "      <th>2</th>\n",
       "      <td>103</td>\n",
       "      <td>Charlie</td>\n",
       "      <td>电子产品</td>\n",
       "      <td>800</td>\n",
       "      <td>2</td>\n",
       "      <td>1600</td>\n",
       "    </tr>\n",
       "  </tbody>\n",
       "</table>\n",
       "</div>"
      ]
     },
     "execution_count": 33,
     "metadata": {},
     "output_type": "execute_result"
    }
   ],
   "execution_count": 33
  },
  {
   "metadata": {
    "ExecuteTime": {
     "end_time": "2025-08-17T07:31:45.694557Z",
     "start_time": "2025-08-17T07:31:45.690043Z"
    }
   },
   "cell_type": "code",
   "source": [
    "#3.计算所有用户的平均消费金额(保留2位小数)\n",
    "df['总消费金额'].mean()"
   ],
   "id": "22a9a4fbb5888728",
   "outputs": [
    {
     "data": {
      "text/plain": [
       "np.float64(1050.0)"
      ]
     },
     "execution_count": 65,
     "metadata": {},
     "output_type": "execute_result"
    }
   ],
   "execution_count": 65
  },
  {
   "metadata": {
    "ExecuteTime": {
     "end_time": "2025-08-17T07:35:02.395008Z",
     "start_time": "2025-08-17T07:35:02.391049Z"
    }
   },
   "cell_type": "code",
   "source": [
    "#4.统计电子产品的总购买数量\n",
    "df[df['商品类别'] == '电子产品']['购买数量'].sum()"
   ],
   "id": "d3439d013fc3d9cc",
   "outputs": [
    {
     "data": {
      "text/plain": [
       "np.int64(3)"
      ]
     },
     "execution_count": 85,
     "metadata": {},
     "output_type": "execute_result"
    }
   ],
   "execution_count": 85
  }
 ],
 "metadata": {
  "kernelspec": {
   "display_name": "Python 3",
   "language": "python",
   "name": "python3"
  },
  "language_info": {
   "codemirror_mode": {
    "name": "ipython",
    "version": 2
   },
   "file_extension": ".py",
   "mimetype": "text/x-python",
   "name": "python",
   "nbconvert_exporter": "python",
   "pygments_lexer": "ipython2",
   "version": "2.7.6"
  }
 },
 "nbformat": 4,
 "nbformat_minor": 5
}
